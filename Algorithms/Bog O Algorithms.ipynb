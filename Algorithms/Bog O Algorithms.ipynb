{
 "cells": [
  {
   "cell_type": "markdown",
   "metadata": {},
   "source": [
    "#  Big (O)\n",
    "\n",
    "What is the definition of  Big O ?\n",
    "\n",
    "* Big O is a mathematical concept used in computer science to describe Complexity and performance of an algorithm & specifically characterized the worst-case of an algorithm as input size grows.\n",
    "\n",
    "Types Of Big O :\n",
    "\n",
    "* Time Complexity\n",
    "* Space Complexity"
   ]
  },
  {
   "cell_type": "markdown",
   "metadata": {},
   "source": [
    "# Time Complexity\n",
    "\n",
    "**What is the definition of Time Complexity ?**\n",
    "\n",
    "* Time complexity refers to the amount of time an algorithm takes to complete as a function of the length of the input. It provides an upper bound on the running time and helps in estimating the worst-case scenario. Time complexity is commonly expressed using Big O notation, which classifies algorithms according to how their run time or space requirements grow as the input size grows. Common time complexities include:\n",
    "\n",
    "\n",
    "**Common Notation Of Big O Time Complexity :**\n",
    "\n",
    "* **\\(O(1)\\)** : Constant time, the algorithm's performance is not affected by the input size.\n",
    "* **\\(O(log n)\\)** : Logarithmic time, the performance grows logarithmically as the input size increases.\n",
    "* **\\(O(n)\\)** : Linear time, the performance grows linearly with the input size.\n",
    "* **\\(O(n log n)\\)** : Linearithmic time, common in efficient sorting algorithms like mergesort and heapsort.\n",
    "* **\\(O(n^2)\\)** : Quadratic time, the performance grows quadratically with the input size, common in simple sorting algorithms like bubble sort and insertion sort.\n",
    "* **\\(O(2^n)\\)** : Exponential time, the performance doubles with each addition to the input size, common in algorithms solving combinatorial problems.\n",
    "* **\\(O(n!)\\)** : Factorial time, the performance grows factorially with the input size, common in algorithms that generate all permutations of a set."
   ]
  },
  {
   "cell_type": "code",
   "execution_count": 2,
   "metadata": {},
   "outputs": [
    {
     "name": "stdout",
     "output_type": "stream",
     "text": [
      "First Element = 5\n"
     ]
    }
   ],
   "source": [
    "''' *** O(1): Constant Time *** '''\n",
    "\n",
    "''' \n",
    "    *** The algorithm's performance is not affected by the input size.\n",
    "    *** Example: Accessing a specific element in an array by its index.\n",
    "'''\n",
    "\n",
    "def get_any_element(array):  # Define a function named 'get_any_element' that takes one parameter 'array'.\n",
    "    return array[5]  # Return the sixth element of the array (index 5). The time complexity of this operation is O(1).\n",
    "\n",
    "array = range(0, 10)  # Create a range object that represents a sequence of numbers from 0 to 9.\n",
    "print(f\"Element = {get_any_element(array)}\")  # Call the 'get_any_element' function with 'array' as the argument and print the result.\n"
   ]
  },
  {
   "cell_type": "code",
   "execution_count": 9,
   "metadata": {},
   "outputs": [
    {
     "name": "stdout",
     "output_type": "stream",
     "text": [
      "target 2 is equal Mid Of Array\n"
     ]
    }
   ],
   "source": [
    "''' *** O(log n): Logarithmic Time *** '''\n",
    "\n",
    "'''\n",
    "    *** The performance grows logarithmically as the input size increases.\n",
    "    *** Example: Binary search in a sorted array.\n",
    "'''\n",
    "\n",
    "def binary_search(array, traget):  # Define a function named 'binary_search' that takes two parameters: 'array' and 'traget'.\n",
    "    low = 0  # Initialize 'low' to 0, representing the starting index of the array.\n",
    "    high = len(array) - 1  # Initialize 'high' to the last index of the array.\n",
    "\n",
    "    while low <= high:  # Continue the loop as long as 'low' is less than or equal to 'high'.\n",
    "        mid = (low + high) // 2  # Calculate the middle index of the current subarray.\n",
    "        if array[mid] == traget:  # If the middle element is equal to the target:\n",
    "            return f\"target {target} is equal Mid Of Array\"  # Return a message indicating the target is found.\n",
    "        elif array[mid] < traget:  # If the middle element is less than the target:\n",
    "            low = mid + 1  # Adjust 'low' to search in the right subarray.\n",
    "        else:  # If the middle element is greater than the target:\n",
    "            high = mid - 1  # Adjust 'high' to search in the left subarray.\n",
    "\n",
    "    return -1  # If the target is not found, return -1.\n",
    "\n",
    "array = list(range(0, 10))  # Create a list of numbers from 0 to 9.\n",
    "target = 2  # Set the target value to 2.\n",
    "print(binary_search(array=array, traget=target))  # Call the 'binary_search' function with 'array' and 'target' as arguments and print the result."
   ]
  },
  {
   "cell_type": "code",
   "execution_count": 13,
   "metadata": {},
   "outputs": [
    {
     "name": "stdout",
     "output_type": "stream",
     "text": [
      "Max Value In Array Is 98\n"
     ]
    }
   ],
   "source": [
    "''' *** O(n): Linear Time *** '''\n",
    "\n",
    "'''\n",
    "    *** The performance grows linearly with the input size.\n",
    "    *** Example: Finding the maximum element in an array. \n",
    "'''\n",
    "\n",
    "def find_max(array):  # Define a function named 'find_max' that takes one parameter 'array'.\n",
    "    max_value = array[0]  # Initialize 'max_value' with the first element of the array.\n",
    "    for num in array:  # Iterate through each element 'num' in the array.\n",
    "        if num > max_value:  # If the current element is greater than 'max_value':\n",
    "            max_value = num  # Update 'max_value' to the current element.\n",
    "    return max_value  # Return the maximum value found in the array.\n",
    "\n",
    "array = [45, 12, 89, 3, 77, 54, 91, 26, 10, 65, 22, 47, 36, 6, 98]  # Define an array with a set of integers.\n",
    "\n",
    "'''\n",
    "import random\n",
    "arr = [random.randint(1, 100) for _ in range(15)]\n",
    "'''\n",
    "# The above commented-out code generates an array of 15 random integers between 1 and 100.\n",
    "\n",
    "print(f\"Max Value In Array Is {find_max(array=array)}\")  # Call the 'find_max' function with 'array' as the argument and print the result."
   ]
  },
  {
   "cell_type": "code",
   "execution_count": 18,
   "metadata": {},
   "outputs": [
    {
     "name": "stdout",
     "output_type": "stream",
     "text": [
      "Sorted Array : [3, 6, 10, 12, 22, 26, 36, 45, 47, 54, 65, 77, 89, 91, 98]\n"
     ]
    }
   ],
   "source": [
    "''' *** O(n log n): Linearithmic Time *** '''\n",
    "\n",
    "'''\n",
    "    *** Common in efficient sorting algorithms like mergesort and heapsort and quick sort.\n",
    "    *** Example: Quick Sort\n",
    "'''\n",
    "\n",
    "def quick_sort(array):  # Define a function named 'quick_sort' that takes one parameter 'array'.\n",
    "    if len(array) <= 1:  # Base case: if the array has 1 or 0 elements, it is already sorted.\n",
    "        return array  # Return the array as it is.\n",
    "    else:  # Recursive case: if the array has more than 1 element:\n",
    "        pivot = array[len(array) // 2]  # Choose the middle element as the pivot.\n",
    "        left = [x for x in array if x < pivot]  # Create a sublist of elements less than the pivot.\n",
    "        middle = [x for x in array if x == pivot]  # Create a sublist of elements equal to the pivot.\n",
    "        right = [x for x in array if x > pivot]  # Create a sublist of elements greater than the pivot.\n",
    "    \n",
    "    return quick_sort(left) + middle + quick_sort(right)  # Recursively sort the left and right sublists and concatenate them with the middle sublist.\n",
    "\n",
    "array = [45, 12, 89, 3, 77, 54, 91, 26, 10, 65, 22, 47, 36, 6, 98]  # Define an array with a set of integers.\n",
    "print(f\"Sorted Array: {quick_sort(array=array)}\")  # Call the 'quick_sort' function with 'array' as the argument and print the sorted result."
   ]
  },
  {
   "cell_type": "code",
   "execution_count": 17,
   "metadata": {},
   "outputs": [
    {
     "name": "stdout",
     "output_type": "stream",
     "text": [
      "Sorted Array : [3, 6, 10, 12, 22, 26, 36, 45, 47, 54, 65, 77, 89, 91, 98]\n"
     ]
    }
   ],
   "source": [
    "array = [45, 12, 89, 3, 77, 54, 91, 26, 10, 65, 22, 47, 36, 6, 98]  # Define an array with a set of integers.\n",
    "print(f\"Sorted Array : {sorted(array)}\")  # Use the built-in 'sorted' function to sort the array and print the sorted result."
   ]
  },
  {
   "cell_type": "code",
   "execution_count": 1,
   "metadata": {},
   "outputs": [
    {
     "name": "stdout",
     "output_type": "stream",
     "text": [
      "Bubble Sort : [3, 6, 10, 12, 22, 26, 36, 45, 47, 54, 65, 77, 89, 91, 98]\n"
     ]
    }
   ],
   "source": [
    "''' *** O(n^2): Quadratic Time *** '''\n",
    "\n",
    "'''\n",
    "    *** The performance grows quadratically with the input size, common in simple sorting algorithms like bubble sort and insertion sort.\n",
    "    *** Example: Bubble sort algorithm.\n",
    "'''\n",
    "\n",
    "def bubble_sort(array):  # Define a function named 'bubble_sort' that takes one parameter 'array'.\n",
    "    length_array = len(array)  # Get the length of the array.\n",
    "\n",
    "    for i in range(length_array):  # Outer loop to traverse through all array elements.\n",
    "        for j in range(0, length_array - i - 1):  # Inner loop for comparing adjacent elements. The '- i - 1' part ensures we don't recheck elements that are already sorted.\n",
    "            if array[j] > array[j + 1]:  # If the current element is greater than the next element:\n",
    "                array[j], array[j + 1] = array[j + 1], array[j]  # Swap the elements.\n",
    "    return array  # Return the sorted array.\n",
    "\n",
    "array = [45, 12, 89, 3, 77, 54, 91, 26, 10, 65, 22, 47, 36, 6, 98]  # Define an array with a set of integers.\n",
    "print(f\"Bubble Sort : {bubble_sort(array=array)}\")  # Call the 'bubble_sort' function with 'array' as the argument and print the sorted result."
   ]
  },
  {
   "cell_type": "code",
   "execution_count": 3,
   "metadata": {},
   "outputs": [
    {
     "name": "stdout",
     "output_type": "stream",
     "text": [
      "SubSet is : [[45, 12, 89], [45, 12], [45, 89], [45], [12, 89], [12], [89], []]\n"
     ]
    }
   ],
   "source": [
    "''' *** O(2^n): Exponential Time *** '''\n",
    "\n",
    "'''\n",
    "    *** The performance doubles with each addition to the input size, common in algorithms solving combinatorial problems.\n",
    "    *** Example: Solving the Tower of Hanoi problem.\n",
    "'''\n",
    "\n",
    "def generate_subset(array):  # Define a function named 'generate_subset' that takes one parameter 'array'.\n",
    "    if not array:  # Base case: if the array is empty:\n",
    "        return [[]]  # Return a list containing an empty list, representing the empty subset.\n",
    "    else:  # Recursive case: if the array is not empty:\n",
    "        subsets_without_first = generate_subset(array=array[1:])  # Recursively generate all subsets of the array excluding the first element.\n",
    "        subsets_with_first = [[array[0]] + subset for subset in subsets_without_first]  # Generate subsets that include the first element by adding the first element to each subset generated without it.\n",
    "        return subsets_with_first + subsets_without_first  # Return the union of subsets with and without the first element.\n",
    "    \n",
    "array = [45, 12, 89]  # Define an array with a set of integers.\n",
    "print(f\"SubSet is : {generate_subset(array=array)}\")  # Call the 'generate_subset' function with 'array' as the argument and print the result."
   ]
  },
  {
   "cell_type": "code",
   "execution_count": 2,
   "metadata": {},
   "outputs": [
    {
     "name": "stdout",
     "output_type": "stream",
     "text": [
      "[[91, 26, 10], [91, 10, 26], [26, 91, 10], [26, 10, 91], [10, 91, 26], [10, 26, 91]]\n"
     ]
    }
   ],
   "source": [
    "''' *** O(n!): Factorial Time *** '''\n",
    "\n",
    "'''\n",
    "    *** The performance grows factorially with the input size, common in algorithms that generate all permutations of a set.\n",
    "    *** Example : generates all permutations of a list\n",
    "'''\n",
    "\n",
    "def permutations(array):  # Define a function named 'permutations' that takes one parameter 'array'.\n",
    "    if len(array) == 0:  # Base case: if the array is empty:\n",
    "        return []  # Return an empty list, as there are no permutations.\n",
    "    if len(array) == 1:  # Base case: if the array has one element:\n",
    "        return [array]  # Return a list containing the array itself, as the only permutation.\n",
    "\n",
    "    perms = []  # Initialize an empty list to store permutations.\n",
    "    for i in range(len(array)):  # Iterate through each element in the array.\n",
    "        m = array[i]  # Select the element at index 'i' as the first element of the permutation.\n",
    "        remaining_elements = array[:i] + array[i+1:]  # Create a new array excluding the selected element.\n",
    "        for p in permutations(remaining_elements):  # Recursively generate permutations of the remaining elements.\n",
    "            perms.append([m] + p)  # Add the selected element to the front of each generated permutation and append it to the list of permutations.\n",
    "    return perms  # Return the list of permutations.\n",
    "\n",
    "array = [91, 26, 10]  # Define an array with a set of integers.\n",
    "print(permutations(array))  # Call the 'permutations' function with 'array' as the argument and print the result."
   ]
  },
  {
   "cell_type": "markdown",
   "metadata": {},
   "source": [
    "# Space Complexity\n",
    "\n",
    "**What is the definition of Space Complexity ?**\n",
    "\n",
    "* Space complexity refers to the amount of memory an algorithm needs to run as a function of the length of the input. It includes both the space needed to hold the input data and any extra space needed for the algorithm to work. Space complexity is also commonly expressed using Big O notation.\n",
    "\n",
    "\n",
    "**Common Notation Of Big O Time Complexity :**\n",
    "\n",
    "\n",
    "- **\\(O(1)\\)** (Constant space): The amount of memory used remains constant regardless of the input size. Examples include simple operations that use a fixed amount of memory, like a single variable or a fixed-size array.\n",
    "\n",
    "- **\\(O(n)\\)** (Linear space): The amount of memory used increases linearly with the size of the input data. This often occurs when storing elements in a list or performing operations that involve iterating through each element once.\n",
    "\n",
    "- **\\(O(n^2)\\)** (Quadratic space): The amount of memory used increases quadratically with the size of the input data. This happens when using nested loops or storing a matrix where each element can potentially interact with every other element.\n"
   ]
  },
  {
   "cell_type": "code",
   "execution_count": 3,
   "metadata": {},
   "outputs": [
    {
     "name": "stdout",
     "output_type": "stream",
     "text": [
      "Sum Array is : 681\n"
     ]
    }
   ],
   "source": [
    "''' *** Constant Space Complexity O(1) *** '''\n",
    "\n",
    "'''\n",
    "    *** The memory requirement does not change with the input size. \n",
    "'''\n",
    "\n",
    "def sum_array(array):  # Define a function named 'sum_array' that takes one parameter 'array'.\n",
    "    sum = 0  # Initialize a variable 'sum' to store the sum of elements, starting with 0.\n",
    "    for num in array:  # Iterate through each element 'num' in the array.\n",
    "        sum += num  # Add each element to 'sum'.\n",
    "    return sum  # Return the final sum of all elements in the array.\n",
    "\n",
    "array = [45, 12, 89, 3, 77, 54, 91, 26, 10, 65, 22, 47, 36, 6, 98]  # Define an array with a set of integers.\n",
    "print(f\"Sum Array is : {sum_array(array=array)}\")  # Call the 'sum_array' function with 'array' as the argument and print the result."
   ]
  },
  {
   "cell_type": "code",
   "execution_count": 5,
   "metadata": {},
   "outputs": [
    {
     "name": "stdout",
     "output_type": "stream",
     "text": [
      "Array is : [90, 24, 178, 6, 154, 108, 182, 52, 20, 130, 44, 94, 72, 12, 196]\n"
     ]
    }
   ],
   "source": [
    "''' *** Linear Space Complexity O(n) *** '''\n",
    "\n",
    "'''\n",
    "    *** The memory requirement grows linearly with the input size.\n",
    "'''\n",
    "\n",
    "def duplicate_number(array):  # Define a function named 'duplicate_number' that takes one parameter 'array'.\n",
    "    new_array = []  # Initialize an empty list 'new_array' to store the doubled numbers.\n",
    "    for num in array:  # Iterate through each element 'num' in the array.\n",
    "        new_array.append(num * 2)  # Double each element and append it to 'new_array'.\n",
    "    return new_array  # Return the new array containing doubled numbers.\n",
    "\n",
    "array = [45, 12, 89, 3, 77, 54, 91, 26, 10, 65, 22, 47, 36, 6, 98]  # Define an array with a set of integers.\n",
    "print(f\"Array is : {duplicate_number(array=array)}\")  # Call the 'duplicate_number' function with 'array' as the argument and print the result."
   ]
  }
 ],
 "metadata": {
  "kernelspec": {
   "display_name": "base",
   "language": "python",
   "name": "python3"
  },
  "language_info": {
   "codemirror_mode": {
    "name": "ipython",
    "version": 3
   },
   "file_extension": ".py",
   "mimetype": "text/x-python",
   "name": "python",
   "nbconvert_exporter": "python",
   "pygments_lexer": "ipython3",
   "version": "3.11.7"
  }
 },
 "nbformat": 4,
 "nbformat_minor": 2
}
