{
 "cells": [
  {
   "cell_type": "markdown",
   "metadata": {},
   "source": [
    "# Stack Data Structure With Python\n",
    "\n",
    "**What is the definition of Stack ?**\n",
    "\n",
    "* A stack is a linear data structure that stores items in a **\\(Last-In First-Out (LIFO)\\)** or **\\(First-In Last-Out (FILO)\\)** manner. In stack, a new element is added at one end and an element is removed from that end only. The insert and delete operations are often called push and pop.\n",
    "\n",
    "The functions associated with stack are:\n",
    "\n",
    "* **empty()** – Returns whether the stack is empty – Time Complexity: O(1)\n",
    "* **size()** – Returns the size of the stack – Time Complexity: O(1)\n",
    "* **top() / peek()** – Returns a reference to the topmost element of the stack – Time Complexity: O(1)\n",
    "* **push(a)** – Inserts the element ‘a’ at the top of the stack – Time Complexity: O(1)\n",
    "* **pop()** – Deletes the topmost element of the stack – Time Complexity: O(1)"
   ]
  },
  {
   "cell_type": "markdown",
   "metadata": {},
   "source": [
    "## Using List"
   ]
  },
  {
   "cell_type": "code",
   "execution_count": 1,
   "metadata": {},
   "outputs": [],
   "source": [
    "# Function to check if the stack (array) is empty\n",
    "def empty_stack(array):\n",
    "    return len(array) == 0\n",
    "\n",
    "# Function to push an item onto the stack (array) and return the updated stack\n",
    "def push_stack(array, item):\n",
    "    array.append(item)\n",
    "    return array\n",
    "\n",
    "# Function to pop an item from the stack (array) and return the updated stack\n",
    "def pop_stack(array):\n",
    "    # Check if the stack is not empty\n",
    "    if not empty_stack(array):\n",
    "        array.pop()  # Remove the last item (top of the stack)\n",
    "    else:\n",
    "        raise IndexError(\"pop from empty stack\")  # Raise an error if stack is empty\n",
    "    \n",
    "    return array  # Return the updated stack\n",
    "\n",
    "# Function to return the size (number of items) of the stack (array)\n",
    "def size_stack(array):\n",
    "    return len(array)\n",
    "\n",
    "# Function to peek at the top item of the stack (array) without removing it\n",
    "def peek_stack(array):\n",
    "    if not empty_stack(array):\n",
    "        return array[-1]  # Return the last item (top of the stack)"
   ]
  },
  {
   "cell_type": "code",
   "execution_count": 2,
   "metadata": {},
   "outputs": [
    {
     "name": "stdout",
     "output_type": "stream",
     "text": [
      "Length Of Stack is 1\n",
      "push 30 In The Stack : [10, 20]\n",
      "Peek The Stack : 20\n",
      "Pop Form The Stack : [10]\n",
      "Pop From The Stack : []\n",
      "The Stack Is Empty Or Not : True\n"
     ]
    }
   ],
   "source": [
    "array = [10]\n",
    "\n",
    "# Initial stack is [10]\n",
    "print(f\"Length Of Stack is {size_stack(array)}\")  # Output: Length Of Stack is 1\n",
    "\n",
    "# Pushing 20 into the stack [10], resulting in [10, 20]\n",
    "print(f\"push 30 In The Stack : {push_stack(array=array, item=20)}\")  # Output: push 30 In The Stack : [10, 20]\n",
    "\n",
    "# Peek at the top of the stack [10, 20], which is 20\n",
    "print(f\"Peek The Stack : {peek_stack(array)}\")  # Output: Peek The Stack : 20\n",
    "\n",
    "# Pop an item from the stack [10, 20], resulting in [10]\n",
    "print(f\"Pop Form The Stack : {pop_stack(array)}\")  # Output: Pop In The Stack : [10]\n",
    "\n",
    "try:\n",
    "    # Trying to pop from an empty stack (after the first pop), raises IndexError\n",
    "    print(f\"Pop From The Stack : {pop_stack(array)}\")  # Attempting to pop from the stack\n",
    "except IndexError as e:\n",
    "    # Catch the IndexError exception if it occurs\n",
    "    print(\"Error:\", e)  # Print the error message\n",
    "\n",
    "# Check if the stack [10] is empty (False)\n",
    "print(f\"The Stack Is Empty Or Not : {empty_stack(array)}\")  # Output: The Stack Is Empty Or Not : True"
   ]
  },
  {
   "cell_type": "markdown",
   "metadata": {},
   "source": [
    "# Queue Data Structure With Python\n",
    "\n",
    "**What is the definition of Queue ?**\n",
    "\n",
    "* Like a stack, the queue is a linear data structure that stores items in a **First In First Out (FIFO)** manner. With a queue, the least recently added item is removed first. A good example of a queue is any queue of consumers for a resource where the consumer that came first is served first.\n",
    "\n",
    "**Operations associated with queue are:**\n",
    "\n",
    "* **Enqueue** – Adds an item to the queue. If the queue is full, then it is said to be an Overflow condition – Time Complexity : O(1)\n",
    "* **Dequeue** – Removes an item from the queue. The items are popped in the same order in which they are pushed. If the queue is empty, then it is said to be an Underflow condition – Time Complexity : O(1)\n",
    "* **Front** – Get the front item from queue – Time Complexity : O(1)\n",
    "* **Rear** – Get the last item from queue – Time Complexity : O(1)\n",
    "* **empty()** – Returns whether the queue is empty – Time Complexity: O(1)\n",
    "* **size()** – Returns the size of the queue – Time Complexity: O(1)"
   ]
  },
  {
   "cell_type": "markdown",
   "metadata": {},
   "source": [
    "## Using List"
   ]
  },
  {
   "cell_type": "code",
   "execution_count": 3,
   "metadata": {},
   "outputs": [],
   "source": [
    "# Function to check if the queue (array) is empty\n",
    "def empty_queue(array):\n",
    "    return len(array) == 0  # Returns True if the length of the array is 0, indicating the queue is empty\n",
    "\n",
    "# Function to add an item to the end of the queue (array) and return the updated queue\n",
    "def enqueue_func(array, item):\n",
    "    array.append(item)  # Add the item to the end of the queue\n",
    "    return array  # Return the updated queue\n",
    "\n",
    "# Function to remove an item from the front of the queue (array) and return the updated queue\n",
    "def dequeue_func(array):\n",
    "    # Check if the queue is not empty\n",
    "    if not empty_queue(array):\n",
    "        array.pop(0)  # Remove the item from the front of the queue\n",
    "        return array  # Return the updated queue\n",
    "    else:\n",
    "        raise IndexError(\"dequeue from an empty Queue\")  # Raise an error if queue is empty\n",
    "\n",
    "# Function to return the size (number of items) of the queue (array)\n",
    "def size_queue(array):\n",
    "    return len(array)  # Return the length of the array representing the size of the queue\n",
    "\n",
    "# Function to get the front element of the queue (array) without removing it\n",
    "def front_element(array):\n",
    "    # Check if the queue is not empty\n",
    "    if not empty_queue(array):\n",
    "        return array[0]  # Return the first item in the queue\n",
    "    else:\n",
    "        raise IndexError(\"Front from an empty queue\")  # Raise an error if queue is empty\n",
    "\n",
    "# Function to get the rear element of the queue (array) without removing it\n",
    "def rear_element(array):\n",
    "    # Check if the queue is not empty\n",
    "    if not empty_queue(array):\n",
    "        return array[-1]  # Return the last item in the queue\n",
    "    else:\n",
    "        raise IndexError(\"Rear from an empty queue\")  # Raise an error if queue is empty"
   ]
  },
  {
   "cell_type": "code",
   "execution_count": 4,
   "metadata": {},
   "outputs": [
    {
     "name": "stdout",
     "output_type": "stream",
     "text": [
      "Length Of Queue is 5\n",
      "Enqueue 30 In The Queue : [10, 5, 8, 2, 1, 20]\n",
      "Front The Queue : 10\n",
      "Rear The Queue : 20\n",
      "Dequeue From The Queue : [5, 8, 2, 1, 20]\n",
      "The Queue Is Empty Or Not : False\n"
     ]
    }
   ],
   "source": [
    "array = [10, 5, 8, 2, 1]\n",
    "\n",
    "# Initial queue is [10, 5, 8, 2, 1]\n",
    "print(f\"Length Of Queue is {size_queue(array)}\")  \n",
    "# Output: Length Of Queue is 5\n",
    "\n",
    "# Enqueue 20 into the queue [10, 5, 8, 2, 1], resulting in [10, 5, 8, 2, 1, 20]\n",
    "print(f\"Enqueue 30 In The Queue : {enqueue_func(array=array, item=20)}\")  \n",
    "# Output: Enqueue 30 In The Queue : [10, 5, 8, 2, 1, 20]\n",
    "\n",
    "# Front element of the queue [10, 5, 8, 2, 1, 20] is 10\n",
    "print(f\"Front The Queue : {front_element(array)}\")  \n",
    "# Output: Front The Queue : 10\n",
    "\n",
    "# Rear element of the queue [10, 5, 8, 2, 1, 20] is 20\n",
    "print(f\"Rear The Queue : {rear_element(array)}\")  \n",
    "# Output: Rear The Queue : 20\n",
    "\n",
    "# Dequeue from the queue [10, 5, 8, 2, 1, 20], resulting in [5, 8, 2, 1, 20]\n",
    "print(f\"Dequeue From The Queue : {dequeue_func(array)}\")  \n",
    "# Output: Dequeue From The Queue : [5, 8, 2, 1, 20]\n",
    "\n",
    "# Check if the queue [5, 8, 2, 1, 20] is empty (False)\n",
    "print(f\"The Queue Is Empty Or Not : {empty_queue(array)}\")  \n",
    "# Output: The Queue Is Empty Or Not : False"
   ]
  },
  {
   "cell_type": "markdown",
   "metadata": {},
   "source": [
    "# Reque Library\n",
    "\n",
    "**What is the definition of Deque ?**\n",
    "\n",
    "* Deque (Doubly Ended Queue) in Python is implemented using the module **“collections“**. Deque is preferred over a list in the cases where we need quicker append and pop operations from both the ends of the container, as deque provides an O(1) time complexity for append and pop operations as compared to a list that provides O(n) time complexity."
   ]
  },
  {
   "cell_type": "markdown",
   "metadata": {},
   "source": [
    "### Using Deque With Stack"
   ]
  },
  {
   "cell_type": "code",
   "execution_count": 5,
   "metadata": {},
   "outputs": [],
   "source": [
    "from collections import deque  # Import the deque class from the collections module\n",
    "\n",
    "container = deque()  # Initialize an empty deque to be used as the stack\n",
    "\n",
    "# Function to check if the stack is empty\n",
    "def empty_stack():\n",
    "    return len(container) == 0  # Returns True if the length of the deque is 0, indicating the stack is empty\n",
    "\n",
    "# Function to push an item onto the stack and return the updated stack\n",
    "def push_stack(item):\n",
    "    container.append(item)  # Add the item to the end of the deque (top of the stack)\n",
    "    return container  # Return the updated stack\n",
    "\n",
    "# Function to pop an item from the stack and return the updated stack\n",
    "def pop_stack():\n",
    "    if not empty_stack():  # Check if the stack is not empty\n",
    "        container.pop()  # Remove the last item from the deque (top of the stack)\n",
    "    else:\n",
    "        raise IndexError(\"pop from empty stack\")  # Raise an error if the stack is empty\n",
    "    \n",
    "    return container  # Return the updated stack\n",
    "\n",
    "# Function to return the size (number of items) of the stack\n",
    "def size_stack():\n",
    "    return len(container)  # Return the length of the deque representing the size of the stack\n",
    "\n",
    "# Function to peek at the top item of the stack without removing it\n",
    "def peek_stack():\n",
    "    if not empty_stack():  # Check if the stack is not empty\n",
    "        return container[-1]  # Return the last item in the deque (top of the stack)"
   ]
  },
  {
   "cell_type": "code",
   "execution_count": 6,
   "metadata": {},
   "outputs": [
    {
     "name": "stdout",
     "output_type": "stream",
     "text": [
      "Push 10 into the stack: deque([10])\n",
      "Push 20 into the stack: deque([10, 20])\n",
      "Push 30 into the stack: deque([10, 20, 30])\n",
      "Peek at the top of the stack: 30\n",
      "Pop from the stack: deque([10, 20])\n",
      "Pop from the stack: deque([10])\n",
      "Is the stack empty? False\n"
     ]
    }
   ],
   "source": [
    "# Push 10 into the stack and print the updated stack\n",
    "print(f\"Push 10 into the stack: {push_stack(item=10)}\")\n",
    "\n",
    "# Push 20 into the stack and print the updated stack\n",
    "print(f\"Push 20 into the stack: {push_stack(item=20)}\")\n",
    "\n",
    "# Push 30 into the stack and print the updated stack\n",
    "print(f\"Push 30 into the stack: {push_stack(item=30)}\")\n",
    "\n",
    "# Peek at the top of the stack (show the top element without removing it)\n",
    "print(f\"Peek at the top of the stack: {peek_stack()}\")\n",
    "\n",
    "# Pop an item from the stack and print the updated stack\n",
    "print(f\"Pop from the stack: {pop_stack()}\")\n",
    "\n",
    "# Pop another item from the stack and print the updated stack\n",
    "print(f\"Pop from the stack: {pop_stack()}\")\n",
    "\n",
    "# Check if the stack is empty and print the result (True or False)\n",
    "print(f\"Is the stack empty? {empty_stack()}\")"
   ]
  },
  {
   "cell_type": "markdown",
   "metadata": {},
   "source": [
    "### Using Reque With Queue"
   ]
  },
  {
   "cell_type": "code",
   "execution_count": 7,
   "metadata": {},
   "outputs": [],
   "source": [
    "from collections import deque  # Importing the deque class from the collections module\n",
    "\n",
    "collection = deque()  # Initialize an empty deque to be used as the queue\n",
    "\n",
    "# Function to check if the queue is empty\n",
    "def empty_queue():\n",
    "    return len(collection) == 0  # Returns True if the length of the deque is 0, indicating the queue is empty\n",
    "\n",
    "# Function to add an item to the end of the queue and return the updated queue\n",
    "def enqueue_func(item):\n",
    "    collection.append(item)  # Add the item to the end of the deque (rear of the queue)\n",
    "    return collection  # Return the updated queue\n",
    "\n",
    "# Function to remove an item from the front of the queue and return the updated queue\n",
    "def dequeue_func():\n",
    "    if not empty_queue():  # Check if the queue is not empty\n",
    "        collection.popleft()  # Remove the first item from the deque (front of the queue)\n",
    "        return collection  # Return the updated queue\n",
    "    else:\n",
    "        raise IndexError(\"pop from empty Queue\")  # Raise an error if the queue is empty\n",
    "\n",
    "# Function to return the size (number of items) of the queue\n",
    "def size_queue():\n",
    "    return len(collection)  # Return the length of the deque representing the size of the queue\n",
    "\n",
    "# Function to get the front element of the queue without removing it\n",
    "def front_element():\n",
    "    if not empty_queue():  # Check if the queue is not empty\n",
    "        return collection[0]  # Return the first item in the deque (front of the queue)\n",
    "    else:\n",
    "        raise IndexError(\"Front from an empty queue\")  # Raise an error if the queue is empty\n",
    "\n",
    "# Function to get the rear element of the queue without removing it\n",
    "def rear_element():\n",
    "    if not empty_queue():  # Check if the queue is not empty\n",
    "        return collection[-1]  # Return the last item in the deque (rear of the queue)\n",
    "    else:\n",
    "        raise IndexError(\"Rear from an empty queue\")  # Raise an error if the queue is empty"
   ]
  },
  {
   "cell_type": "code",
   "execution_count": 8,
   "metadata": {},
   "outputs": [
    {
     "name": "stdout",
     "output_type": "stream",
     "text": [
      "Enqueue 10 In The Queue : deque([10])\n",
      "Enqueue 20 In The Queue : deque([10, 20])\n",
      "Enqueue 30 In The Queue : deque([10, 20, 30])\n",
      "Length Of Queue is 3\n",
      "Front The Queue : 10\n",
      "Rear The Queue : 30\n",
      "Dequeue From The Queue : deque([20, 30])\n",
      "The Queue Is Empty Or Not : False\n"
     ]
    }
   ],
   "source": [
    "# Enqueue 10 into the queue and print the updated queue\n",
    "print(f\"Enqueue 10 In The Queue : {enqueue_func(item=10)}\")\n",
    "\n",
    "# Enqueue 20 into the queue and print the updated queue\n",
    "print(f\"Enqueue 20 In The Queue : {enqueue_func(item=20)}\")\n",
    "\n",
    "# Enqueue 30 into the queue and print the updated queue\n",
    "print(f\"Enqueue 30 In The Queue : {enqueue_func(item=30)}\")\n",
    "\n",
    "# Print the length of the queue\n",
    "print(f\"Length Of Queue is {size_queue()}\")\n",
    "\n",
    "# Print the front element of the queue\n",
    "print(f\"Front The Queue : {front_element()}\")\n",
    "\n",
    "# Print the rear element of the queue\n",
    "print(f\"Rear The Queue : {rear_element()}\")\n",
    "\n",
    "# Dequeue from the queue and print the updated queue\n",
    "print(f\"Dequeue From The Queue : {dequeue_func()}\")\n",
    "\n",
    "# Check if the queue is empty and print the result (True or False)\n",
    "print(f\"The Queue Is Empty Or Not : {empty_queue()}\")"
   ]
  }
 ],
 "metadata": {
  "kernelspec": {
   "display_name": "base",
   "language": "python",
   "name": "python3"
  },
  "language_info": {
   "codemirror_mode": {
    "name": "ipython",
    "version": 3
   },
   "file_extension": ".py",
   "mimetype": "text/x-python",
   "name": "python",
   "nbconvert_exporter": "python",
   "pygments_lexer": "ipython3",
   "version": "3.11.7"
  }
 },
 "nbformat": 4,
 "nbformat_minor": 2
}
