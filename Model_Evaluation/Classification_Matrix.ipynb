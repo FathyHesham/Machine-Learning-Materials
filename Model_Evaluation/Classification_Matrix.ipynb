{
 "cells": [
  {
   "cell_type": "code",
   "execution_count": 1,
   "metadata": {},
   "outputs": [
    {
     "data": {
      "text/plain": [
       "'\\n# Metrics Module include Regression and Classification\\n# in Classification include\\n                        # Confusion Matrix\\n                            # 1. Accuracy \\n                            # 2. Recall\\n                            # 3. Precision\\n                            # 4. F1 Score\\n                            # 5. Error rate\\n# Knowledge of basic concepts\\n\\n    # True Positive (TP) : TP is correct positive prediction means that the actual value was positive and the model predicted a positive value.\\n    # False Positive (FP) : FP is incorrect positive prediction means that the actual value was negative but the model predicted a positive value.\\n    # True Negative (TN) : TN is correct negative prediction means that the actual value was negative and the model predicted a negative value.\\n    # False Negative (FN) : FN is incorrect negative prediction means that the actual value was positive but the model predicted a negative value.\\n'"
      ]
     },
     "execution_count": 1,
     "metadata": {},
     "output_type": "execute_result"
    }
   ],
   "source": [
    "'''\n",
    "# Metrics Module include Regression and Classification\n",
    "# in Classification include\n",
    "                        # Confusion Matrix\n",
    "                            # 1. Accuracy \n",
    "                            # 2. Recall\n",
    "                            # 3. Precision\n",
    "                            # 4. F1 Score\n",
    "                            # 5. Error rate\n",
    "# Knowledge of basic concepts\n",
    "\n",
    "    # True Positive (TP) : TP is correct positive prediction means that the actual value was positive and the model predicted a positive value.\n",
    "    # False Positive (FP) : FP is incorrect positive prediction means that the actual value was negative but the model predicted a positive value.\n",
    "    # True Negative (TN) : TN is correct negative prediction means that the actual value was negative and the model predicted a negative value.\n",
    "    # False Negative (FN) : FN is incorrect negative prediction means that the actual value was positive but the model predicted a negative value.\n",
    "'''"
   ]
  },
  {
   "cell_type": "code",
   "execution_count": 2,
   "metadata": {},
   "outputs": [],
   "source": [
    "def classification_metrics (y_true, y_pred):\n",
    "    \n",
    "    TP = TN = FP = FN = 0\n",
    "    for i in range(len(y_true)):\n",
    "        if y_true[i] == 1 and y_pred[i] == 1 :\n",
    "            TP +=1\n",
    "        elif y_true[i] == 0 and y_pred[i] == 1 :\n",
    "            FP +=1\n",
    "        if y_true[i] == 1 and y_pred[i] == 0 :\n",
    "            FN +=1\n",
    "        else:\n",
    "            TN +=1\n",
    "\n",
    "    return {\n",
    "        'true_positive' : TP,\n",
    "        'false_positive' : FP,\n",
    "        'true_negative' : TN,\n",
    "        'false_negative' : FN,\n",
    "    }"
   ]
  },
  {
   "cell_type": "code",
   "execution_count": 3,
   "metadata": {},
   "outputs": [],
   "source": [
    "def accuracy (TP, TN, FP, FN):\n",
    "    return ((TP + TN) / (TP + TN + FP + FN))"
   ]
  },
  {
   "cell_type": "code",
   "execution_count": 4,
   "metadata": {},
   "outputs": [
    {
     "name": "stdout",
     "output_type": "stream",
     "text": [
      "Classification Metrics:\n",
      "True Positives: 4\n",
      "False Positives: 1\n",
      "True Negatives: 9\n",
      "False Negatives: 1\n",
      "----------------------------------\n",
      "Accuracy : 0.867\n"
     ]
    }
   ],
   "source": [
    "# 1. Accuracy \n",
    "# Rule --> ( TP + TN ) / ( TP + TN + FP + FN )\n",
    "# using library called (sklearn) and module called (metrics) and class called (accuracy_score)\n",
    "\n",
    "# from sklearn.metrics import accuracy_score\n",
    "\n",
    "# Data and predict of the data\n",
    "y_true = [0, 1, 0, 1, 1, 0, 0, 1, 1, 0]\n",
    "y_pred = [0, 1, 0, 0, 1, 0, 1, 1, 1, 0]\n",
    "\n",
    "metrics = classification_metrics (y_true, y_pred)\n",
    "print(\"Classification Metrics:\")\n",
    "print(f\"True Positives: {metrics['true_positive']}\")\n",
    "print(f\"False Positives: {metrics['false_positive']}\")\n",
    "print(f\"True Negatives: {metrics['true_negative']}\")\n",
    "print(f\"False Negatives: {metrics['false_negative']}\")\n",
    "\n",
    "print(\"----------------------------------\")\n",
    "\n",
    "accuracy_result = accuracy(TP = metrics['true_positive'], \n",
    "                           TN = metrics['true_negative'],\n",
    "                           FP = metrics['false_positive'],\n",
    "                           FN = metrics['false_negative'])\n",
    "\n",
    "print(f'Accuracy : {(accuracy_result):.3f}')\n",
    "# print(f'Accuracy using sklearn: {(accuracy_score(y_true, y_pred)):.3f}')"
   ]
  },
  {
   "cell_type": "code",
   "execution_count": 5,
   "metadata": {},
   "outputs": [],
   "source": [
    "def precision (TP, FP):\n",
    "    return ((TP) / (TP + FP) if (TP + FP) != 0 else 0)"
   ]
  },
  {
   "cell_type": "code",
   "execution_count": 6,
   "metadata": {},
   "outputs": [
    {
     "name": "stdout",
     "output_type": "stream",
     "text": [
      "Classification Metrics:\n",
      "True Positives: 4\n",
      "False Positives: 1\n",
      "True Negatives: 9\n",
      "False Negatives: 1\n",
      "----------------------------------\n",
      "Precision : 0.80\n"
     ]
    }
   ],
   "source": [
    "# 3. Precision\n",
    "# Rule : ( TP ) / ( TP + FP )\n",
    "# using library called (sklearn) and module called (metrics) and class called (precision_score)\n",
    "\n",
    "# from sklearn.metrics import accuracy_score\n",
    "# from sklearn.metrics import precision_score\n",
    "\n",
    "\n",
    "# Data and predict of the data\n",
    "y_true = [0, 1, 0, 1, 1, 0, 0, 1, 1, 0]\n",
    "y_pred = [0, 1, 0, 0, 1, 0, 1, 1, 1, 0]\n",
    "\n",
    "metrics = classification_metrics (y_true, y_pred)\n",
    "print(\"Classification Metrics:\")\n",
    "print(f\"True Positives: {metrics['true_positive']}\")\n",
    "print(f\"False Positives: {metrics['false_positive']}\")\n",
    "print(f\"True Negatives: {metrics['true_negative']}\")\n",
    "print(f\"False Negatives: {metrics['false_negative']}\")\n",
    "\n",
    "print(\"----------------------------------\")\n",
    "\n",
    "precision_result = precision(TP = metrics['true_positive'], \n",
    "                             FP = metrics['false_positive'])\n",
    "\n",
    "print(f'Precision : {(precision_result):.2f}')\n",
    "# print(f'Precision : {(precision_score(y_true, y_pred)):.3f}')"
   ]
  },
  {
   "cell_type": "code",
   "execution_count": 7,
   "metadata": {},
   "outputs": [],
   "source": [
    "def recall (TP, FN):\n",
    "    return ((TP) / (TP + FN) if (TP + FN) != 0 else 0)"
   ]
  },
  {
   "cell_type": "code",
   "execution_count": 8,
   "metadata": {},
   "outputs": [
    {
     "name": "stdout",
     "output_type": "stream",
     "text": [
      "Classification Metrics:\n",
      "True Positives: 4\n",
      "False Positives: 1\n",
      "True Negatives: 9\n",
      "False Negatives: 1\n",
      "----------------------------------\n",
      "Recall :  0.80\n"
     ]
    }
   ],
   "source": [
    "# 2. Recall\n",
    "# Rule : ( TP ) / ( TP + FN ) \n",
    "# using library called (sklearn) and module called (metrics) and class called (recall_score)\n",
    "\n",
    "# Data and predict of the data\n",
    "y_true = [0, 1, 0, 1, 1, 0, 0, 1, 1, 0]\n",
    "y_pred = [0, 1, 0, 0, 1, 0, 1, 1, 1, 0]\n",
    "\n",
    "metrics = classification_metrics (y_true, y_pred)\n",
    "print(\"Classification Metrics:\")\n",
    "print(f\"True Positives: {metrics['true_positive']}\")\n",
    "print(f\"False Positives: {metrics['false_positive']}\")\n",
    "print(f\"True Negatives: {metrics['true_negative']}\")\n",
    "print(f\"False Negatives: {metrics['false_negative']}\")\n",
    "\n",
    "print(\"----------------------------------\")\n",
    "\n",
    "recall_result = recall(TP =  metrics['true_positive'],\n",
    "                       FN = metrics['false_negative'])\n",
    "\n",
    "print(f'Recall :  {(recall_result):.2f}')"
   ]
  },
  {
   "cell_type": "code",
   "execution_count": 9,
   "metadata": {},
   "outputs": [],
   "source": [
    "def f1_score (precision, recall):\n",
    "    return (2 * ((precision * recall) / (precision + recall)) if precision * recall != 0 else 0)"
   ]
  },
  {
   "cell_type": "code",
   "execution_count": 11,
   "metadata": {},
   "outputs": [
    {
     "name": "stdout",
     "output_type": "stream",
     "text": [
      "Classification Metrics:\n",
      "True Positives: 4\n",
      "False Positives: 1\n",
      "True Negatives: 9\n",
      "False Negatives: 1\n",
      "----------------------------------\n",
      "F1 Score :  0.80\n"
     ]
    }
   ],
   "source": [
    "# 4. F1 Score\n",
    "# Rule : ( 2 * Precision * Recall ) / ( Precision + Recall ) \n",
    "# using library called (sklearn) and module called (metrics) and class called (f1_score)\n",
    "# Data and predict of the data\n",
    "y_true = [0, 1, 0, 1, 1, 0, 0, 1, 1, 0]\n",
    "y_pred = [0, 1, 0, 0, 1, 0, 1, 1, 1, 0]\n",
    "\n",
    "metrics = classification_metrics (y_true, y_pred)\n",
    "print(\"Classification Metrics:\")\n",
    "print(f\"True Positives: {metrics['true_positive']}\")\n",
    "print(f\"False Positives: {metrics['false_positive']}\")\n",
    "print(f\"True Negatives: {metrics['true_negative']}\")\n",
    "print(f\"False Negatives: {metrics['false_negative']}\")\n",
    "\n",
    "print(\"----------------------------------\")\n",
    "\n",
    "f1_score_result = f1_score(precision_result, recall_result)\n",
    "\n",
    "print(f'F1 Score :  {(f1_score_result):.2f}')"
   ]
  }
 ],
 "metadata": {
  "kernelspec": {
   "display_name": "Python 3",
   "language": "python",
   "name": "python3"
  },
  "language_info": {
   "codemirror_mode": {
    "name": "ipython",
    "version": 3
   },
   "file_extension": ".py",
   "mimetype": "text/x-python",
   "name": "python",
   "nbconvert_exporter": "python",
   "pygments_lexer": "ipython3",
   "version": "3.12.4"
  }
 },
 "nbformat": 4,
 "nbformat_minor": 2
}
