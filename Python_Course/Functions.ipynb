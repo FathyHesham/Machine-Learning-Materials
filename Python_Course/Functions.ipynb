{
 "cells": [
  {
   "cell_type": "markdown",
   "id": "f8093b50",
   "metadata": {},
   "source": [
    "# Function"
   ]
  },
  {
   "cell_type": "code",
   "execution_count": 45,
   "id": "b4fb1d74",
   "metadata": {},
   "outputs": [
    {
     "name": "stdout",
     "output_type": "stream",
     "text": [
      "Please Enter Your Birth Year : 2001\n",
      "Your Age is 22 Years Old\n",
      "\n",
      "Enter Your Number 1 : 10\n",
      "Enter Your Number 2 : 30\n",
      "Sum :  40\n"
     ]
    }
   ],
   "source": [
    "'''\n",
    "\t definrd function ==> def name_funtion (): --- body of function ---\n",
    "\t call function ==> name_function()\n",
    "'''\n",
    "# Import the datetime module to work with dates\n",
    "import datetime\n",
    "\n",
    "# Define a function named 'age'\n",
    "def age():\n",
    "    # Get the current year using the datetime module\n",
    "    year = datetime.datetime.now().year\n",
    "    # Prompt the user to enter their birth year and convert the input to an integer\n",
    "    getAge = int(input(\"Please Enter Your Birth Year : \"))\n",
    "    # Calculate the age by subtracting the entered birth year from the current year\n",
    "    myAge = year - getAge\n",
    "    # Display the calculated age\n",
    "    print(\"Your Age is\", myAge, \"Years Old\")\n",
    "\n",
    "# Define a function named 'sum' that takes two parameters (num1 and num2)\n",
    "def sum(num1, num2):\n",
    "    # Return the sum of num1 and num2\n",
    "    return num1 + num2\n",
    "\n",
    "# Call the 'age' function to execute its code\n",
    "age()\n",
    "\n",
    "# Prompt the user to enter two numbers\n",
    "num1 = int(input(\"\\nEnter Your Number 1 : \"))\n",
    "num2 = int(input(\"Enter Your Number 2 : \"))\n",
    "\n",
    "# Call the 'sum' function with keyword arguments and print the result\n",
    "print(\"Sum : \", sum(num1 = num1, num2 = num2))"
   ]
  },
  {
   "cell_type": "code",
   "execution_count": 46,
   "id": "1aefa7ca",
   "metadata": {},
   "outputs": [
    {
     "name": "stdout",
     "output_type": "stream",
     "text": [
      "{'age': 22, 'name': 'Fathy', 'phone': 123456789, 'color': 'Blue'}\n"
     ]
    }
   ],
   "source": [
    "# Define a function named 'info' that accepts keyword arguments (**kwargs)\n",
    "def info(**kwargs):\n",
    "    # Print the keyword arguments (a dictionary)\n",
    "    print(kwargs)\n",
    "\n",
    "# Call the 'info' function with multiple keyword arguments\n",
    "info(age=22, name=\"Fathy\", phone=123456789, color=\"Blue\")"
   ]
  },
  {
   "cell_type": "markdown",
   "id": "c9562b54",
   "metadata": {},
   "source": [
    "# Function Types"
   ]
  },
  {
   "cell_type": "code",
   "execution_count": 47,
   "id": "cf25d1e4",
   "metadata": {},
   "outputs": [
    {
     "name": "stdout",
     "output_type": "stream",
     "text": [
      "Hello From My Function1\n",
      "100\n",
      "Hello From My Function3\n",
      "16\n"
     ]
    }
   ],
   "source": [
    "# Define a function named 'function1' with no parameters\n",
    "def function1():\n",
    "    # Print a message\n",
    "    print(\"Hello From My Function1\")\n",
    "\n",
    "# Define a function named 'function2' with one parameter (number1)\n",
    "def function2(number1):\n",
    "    # Print the square of the input parameter\n",
    "    print(number1 * number1)\n",
    "\n",
    "# Define a function named 'function3' with no parameters\n",
    "def function3():\n",
    "    # Return a string\n",
    "    return \"Hello From My Function3\"\n",
    "\n",
    "# Define a function named 'function4' with one parameter (number1)\n",
    "def function4(number1):\n",
    "    # Return the square of the input parameter\n",
    "    return number1 * number1\n",
    "\n",
    "# Call the 'function1' function to execute its code\n",
    "function1()\n",
    "\n",
    "# Call the 'function2' function with an argument (10) to execute its code\n",
    "function2(10)\n",
    "\n",
    "# Call the 'function3' function and print its return value\n",
    "print(function3())\n",
    "\n",
    "# Call the 'function4' function with an argument (4) and print its return value\n",
    "print(function4(4))"
   ]
  },
  {
   "cell_type": "markdown",
   "id": "722f2f61",
   "metadata": {},
   "source": [
    "# Passing List Through Function"
   ]
  },
  {
   "cell_type": "code",
   "execution_count": 48,
   "id": "93a3409d",
   "metadata": {},
   "outputs": [
    {
     "name": "stdout",
     "output_type": "stream",
     "text": [
      "mylist index  0 :  2\n",
      "mylist index  1 :  f\n",
      "mylist index  2 :  Fathy\n",
      "mylist index  3 :  3.76\n"
     ]
    }
   ],
   "source": [
    "# Define a list named 'mylist'\n",
    "mylist = [2, 'f', \"Fathy\", 3.76]\n",
    "\n",
    "# Define a function named 'output' that takes a list as a parameter (annotated as a list)\n",
    "def output(x: list):\n",
    "    # Iterate over the indices of the list using a range based on its length\n",
    "    for i in range(len(x)):\n",
    "        # Print each element along with its index\n",
    "        print(\"mylist index \", i, \": \", x[i])\n",
    "\n",
    "# Call the 'output' function with the 'mylist' as an argument\n",
    "output(mylist)"
   ]
  },
  {
   "cell_type": "markdown",
   "id": "a5a5eb54",
   "metadata": {},
   "source": [
    "# Recursion"
   ]
  },
  {
   "cell_type": "code",
   "execution_count": 49,
   "id": "2797d46a",
   "metadata": {},
   "outputs": [
    {
     "name": "stdout",
     "output_type": "stream",
     "text": [
      "Enter A Number : 5\n",
      "Sum =  15\n"
     ]
    }
   ],
   "source": [
    "'''\n",
    "1- 5 + add(4)\n",
    "2- 5 + 4 + add(3)\n",
    "3- 5 + 4 + 3 + add(2)\n",
    "4- 5 + 4 + 3 + 2 + add(1)\n",
    "5- 5 + 4 + 3 + 2 + 1 + add(0) = 15\n",
    "6- return 0\n",
    "\n",
    "'''\n",
    "\n",
    "# Define a recursive function named 'add' with one parameter (number1)\n",
    "def add(number1):\n",
    "    # Base case: If the input number is not 0, calculate the sum recursively\n",
    "    if number1 != 0:\n",
    "        return number1 + add(number1 - 1)  # Recursive call: number1 + add(number1 - 1)\n",
    "    else:\n",
    "        return 0  # Base case: Return 0 when the input number is 0\n",
    "\n",
    "# Prompt the user to enter a number and convert the input to an integer\n",
    "number1 = int(input(\"Enter A Number : \"))\n",
    "\n",
    "# Call the 'add' function with the input number and print the result\n",
    "print(\"Sum = \", add(number1))"
   ]
  },
  {
   "cell_type": "markdown",
   "id": "d1a651a4",
   "metadata": {},
   "source": [
    "# Lambda Expression"
   ]
  },
  {
   "cell_type": "code",
   "execution_count": 50,
   "id": "89cb930e",
   "metadata": {},
   "outputs": [
    {
     "name": "stdout",
     "output_type": "stream",
     "text": [
      "Hello From My Function1\n",
      "Hello From My Function1\n",
      "100\n",
      "100\n",
      "Hello From My Function3\n",
      "Hello From My Function3\n",
      "16\n",
      "16\n"
     ]
    }
   ],
   "source": [
    "# Define a function named 'function1' with no parameters\n",
    "def function1():\n",
    "    # Print a message\n",
    "    print(\"Hello From My Function1\")\n",
    "\n",
    "# Define a lambda expression 'lambda1' with no parameters\n",
    "lambda1 = lambda: print(\"Hello From My Function1\")\n",
    "\n",
    "# Define a function named 'function2' with one parameter (number1)\n",
    "def function2(number1):\n",
    "    # Print the square of the input parameter\n",
    "    print(number1 * number1)\n",
    "\n",
    "# Define a lambda expression 'lambda2' with one parameter (number1)\n",
    "lambda2 = lambda number1: print(number1 * number1)\n",
    "\n",
    "# Define a function named 'function3' with no parameters\n",
    "def function3():\n",
    "    # Return a string\n",
    "    return \"Hello From My Function3\"\n",
    "\n",
    "# Define a lambda expression 'lambda3' with no parameters\n",
    "lambda3 = lambda: \"Hello From My Function3\"\n",
    "\n",
    "# Define a function named 'function4' with one parameter (number1)\n",
    "def function4(number1):\n",
    "    # Return the square of the input parameter\n",
    "    return number1 * number1\n",
    "\n",
    "# Define a lambda expression 'lambda4' with one parameter (number1)\n",
    "lambda4 = lambda number1: number1 * number1\n",
    "\n",
    "# Call the 'function1' function to execute its code\n",
    "function1()\n",
    "\n",
    "# Call the 'lambda1' lambda expression to execute its code\n",
    "lambda1()\n",
    "\n",
    "# Call the 'function2' function with an argument (10) to execute its code\n",
    "function2(10)\n",
    "\n",
    "# Call the 'lambda2' lambda expression with an argument (10) to execute its code\n",
    "lambda2(10)\n",
    "\n",
    "# Call the 'function3' function and print its return value\n",
    "print(function3())\n",
    "\n",
    "# Call the 'lambda3' lambda expression and print its return value\n",
    "print(lambda3())\n",
    "\n",
    "# Call the 'function4' function with an argument (4) and print its return value\n",
    "print(function4(4))\n",
    "\n",
    "# Call the 'lambda4' lambda expression with an argument (4) and print its return value\n",
    "print(lambda4(4))"
   ]
  },
  {
   "cell_type": "markdown",
   "id": "e8f88fdc",
   "metadata": {},
   "source": [
    "# Lambda Expression With List"
   ]
  },
  {
   "cell_type": "code",
   "execution_count": 4,
   "id": "9d8c7a09",
   "metadata": {},
   "outputs": [
    {
     "name": "stdout",
     "output_type": "stream",
     "text": [
      "2\n",
      "f\n",
      "3.76\n",
      "Hello World!\n",
      "True\n",
      "\n",
      "\n",
      "2\n",
      "f\n",
      "3.76\n",
      "Hello World!\n",
      "True\n"
     ]
    },
    {
     "data": {
      "text/plain": [
       "[None, None, None, None, None]"
      ]
     },
     "execution_count": 4,
     "metadata": {},
     "output_type": "execute_result"
    }
   ],
   "source": [
    "# Define a list named 'myList' containing elements of different data types.\n",
    "myList = [2, 'f', 3.76, \"Hello World!\", True]\n",
    "\n",
    "# Define a function named 'lambdaList' that takes a list 'x' as an argument.\n",
    "def lambdaList(x: list):\n",
    "    # Iterate over each value in the list 'x'.\n",
    "    for value in x:\n",
    "        # Print the current value.\n",
    "        print(value)\n",
    "\n",
    "# Call the 'lambdaList' function with 'myList' as the argument.\n",
    "# This will print each element of 'myList'.\n",
    "lambdaList(myList)\n",
    "\n",
    "# Print a newline character to separate the outputs.\n",
    "print(\"\\n\")\n",
    "\n",
    "# Define a lambda function named 'lambda3' that takes one argument 'a'.\n",
    "# The function iterates over each value in 'a' and prints it.\n",
    "lambda3 = lambda a: [print(value) for value in a]\n",
    "\n",
    "# Call the lambda function 'lambda3' with 'myList' as the argument.\n",
    "# This will print each element of 'myList'.\n",
    "lambda3(myList)"
   ]
  },
  {
   "cell_type": "markdown",
   "id": "7565e2f1",
   "metadata": {},
   "source": [
    "# Higher Order Function (HOF)"
   ]
  },
  {
   "cell_type": "code",
   "execution_count": 51,
   "id": "62479576",
   "metadata": {},
   "outputs": [
    {
     "name": "stdout",
     "output_type": "stream",
     "text": [
      "Sum :  8\n"
     ]
    }
   ],
   "source": [
    "'''\n",
    "def sum1 (a, b):\n",
    "    total = a + b\n",
    "    print(\"Sum : \", total)\n",
    "\n",
    "'''\n",
    "# Define a lambda function named 'sum2' that takes two parameters (a and b)\n",
    "sum2 = lambda a, b: print(\"Sum : \", a + b)\n",
    "\n",
    "# Define a higher-order function named 'hof' with three parameters (x, y, z)\n",
    "def hof(x, y, z):\n",
    "    # Call the function 'z' with arguments 'x' and 'y'\n",
    "    z(x, y)\n",
    "\n",
    "# Call the higher-order function 'hof' with arguments 3, 5, and the lambda function 'sum2'\n",
    "hof(3, 5, sum2)"
   ]
  }
 ],
 "metadata": {
  "kernelspec": {
   "display_name": "Python 3 (ipykernel)",
   "language": "python",
   "name": "python3"
  },
  "language_info": {
   "codemirror_mode": {
    "name": "ipython",
    "version": 3
   },
   "file_extension": ".py",
   "mimetype": "text/x-python",
   "name": "python",
   "nbconvert_exporter": "python",
   "pygments_lexer": "ipython3",
   "version": "3.11.7"
  }
 },
 "nbformat": 4,
 "nbformat_minor": 5
}
