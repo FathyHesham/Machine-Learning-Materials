{
 "cells": [
  {
   "cell_type": "markdown",
   "id": "4d13365a",
   "metadata": {},
   "source": [
    "## Object-oriented programming (OOP)"
   ]
  },
  {
   "cell_type": "markdown",
   "id": "a152d765",
   "metadata": {},
   "source": [
    "### You’ll learn how to:\n",
    "\n",
    "* Define a class, which is like a blueprint for creating an object\n",
    "* Use classes to create new objects\n",
    "* Model systems with class inheritance"
   ]
  },
  {
   "cell_type": "markdown",
   "id": "348c0ed2",
   "metadata": {},
   "source": [
    "### How Do You Define a Class in Python?\n",
    "In Python, you define a class by using the class keyword followed by a name and a colon. Then you use .__init__() to declare which attributes each instance of the class should have:\n",
    "\n"
   ]
  },
  {
   "cell_type": "markdown",
   "id": "a09872a8",
   "metadata": {},
   "source": [
    "# Class, Object & Self"
   ]
  },
  {
   "cell_type": "code",
   "execution_count": 1,
   "id": "42853262",
   "metadata": {},
   "outputs": [
    {
     "name": "stdout",
     "output_type": "stream",
     "text": [
      "Enter Your Name: fathy\n",
      "Enter Your Length: 163\n",
      "\n",
      "Name :  fathy\n",
      "Length :  163\n"
     ]
    }
   ],
   "source": [
    "'''\n",
    "    Object : \n",
    "        - Attributes = Variable [ length - width - hear color]\n",
    "        - Actions = Function    [ thinking - walking ]\n",
    "'''\n",
    "\n",
    "# Define a class named 'Human'\n",
    "class Human:\n",
    "    # Define a class attribute 'name' with an empty string as its initial value\n",
    "    name = \"\"\n",
    "    # Define a class attribute 'length' with 0 as its initial value\n",
    "    length = 0\n",
    "    \n",
    "    # Define a method named 'info' within the class\n",
    "    def info(self): # if you want to call the variables inside function\n",
    "        # Print the values of the attributes\n",
    "        print(\"\\nName : \", self.name)  # Print the name of the object\n",
    "        print(\"Length : \", self.length)  # Print the length of the object\n",
    "\n",
    "# Create an instance of the Human class\n",
    "object1 = Human()\n",
    "\n",
    "# Set the attributes of the object1 instance\n",
    "object1.name = input(\"Enter Your Name: \")  # Assign user input to the 'name' attribute\n",
    "object1.length = int(input(\"Enter Your Length: \"))  # Assign user input to the 'length' attribute and convert it to an integer\n",
    "\n",
    "# Call the info method of the object1 instance\n",
    "object1.info()  # Print the attributes of the object1 instance"
   ]
  },
  {
   "cell_type": "markdown",
   "id": "d78f3217",
   "metadata": {
    "slideshow": {
     "slide_type": "-"
    }
   },
   "source": [
    "# Constructor"
   ]
  },
  {
   "cell_type": "code",
   "execution_count": 1,
   "id": "5bdd9426",
   "metadata": {},
   "outputs": [
    {
     "name": "stdout",
     "output_type": "stream",
     "text": [
      "The First Call\n",
      "fathy 23\n"
     ]
    }
   ],
   "source": [
    "# Define a class named 'Human'\n",
    "class Human:\n",
    "    # Define a class attribute 'name' with an empty string as its initial value\n",
    "    name = \"\"\n",
    "    # Define a class attribute 'age' with 0 as its initial value\n",
    "    age = 0\n",
    "\n",
    "    # Define the constructor method, which is called when a new instance of the class is created\n",
    "    def __init__(self):\n",
    "        # Print a message indicating the constructor has been called\n",
    "        print(\"The First Call\")\n",
    "\n",
    "    # Define a method named 'info' within the class\n",
    "    def info(self):\n",
    "        # Print the values of the attributes 'name' and 'age'\n",
    "        print(self.name, self.age)\n",
    "\n",
    "# Create an instance of the Human class, which calls the constructor\n",
    "object1 = Human()\n",
    "\n",
    "# Set the 'name' attribute of the object1 instance to \"fathy\"\n",
    "object1.name = \"fathy\"\n",
    "\n",
    "# Set the 'age' attribute of the object1 instance to 23\n",
    "object1.age = 23\n",
    "\n",
    "# Call the 'info' method of the object1 instance to print the attributes\n",
    "object1.info()"
   ]
  },
  {
   "cell_type": "code",
   "execution_count": 2,
   "id": "41afb717",
   "metadata": {},
   "outputs": [
    {
     "name": "stdout",
     "output_type": "stream",
     "text": [
      "Name: Fathy\n",
      "Age: 22\n",
      "Length: 163.0\n",
      "Name: Hesham\n",
      "Age: 22\n",
      "Length: 165.0\n"
     ]
    }
   ],
   "source": [
    "# Define a class named 'MyClass'\n",
    "class MyClass:\n",
    "    # Define class attributes with initial values\n",
    "    name = \"\"        # Class variable\n",
    "    age = 0          # Class variable\n",
    "    length = 0.0     # Class variable\n",
    "    \n",
    "    # Define an instance method to print a simple message\n",
    "    def info(self):\n",
    "        # Print \"Hello\"\n",
    "        print(\"Hello\")\n",
    "\n",
    "    # Constructor (__init__) to initialize the instance attributes\n",
    "    def __init__(self, p_name, p_age, p_length):\n",
    "        # Set instance variables using the provided parameters\n",
    "        self.name = p_name          # Instance variable\n",
    "        self.age = p_age            # Instance variable\n",
    "        self.length = p_length      # Instance variable\n",
    "        # Print instance variable values\n",
    "        print(\"Name:\", self.name)\n",
    "        print(\"Age:\", self.age)\n",
    "        print(\"Length:\", self.length)\n",
    "\n",
    "# Create an instance of the MyClass class named 'h1' with arguments \"Fathy\", 22, and 163.0\n",
    "h1 = MyClass(\"Fathy\", 22, 163.0)\n",
    "\n",
    "# Create another instance of the MyClass class named 'h2' with arguments \"Hesham\", 22, and 165.0\n",
    "h2 = MyClass(\"Hesham\", 22, 165.0)\n",
    "\n",
    "# Uncomment the line below if you want to call the 'info' method on h1\n",
    "# h1.info()"
   ]
  },
  {
   "cell_type": "markdown",
   "id": "170c48e9",
   "metadata": {},
   "source": [
    "# Instance, Class Variable & Class Method"
   ]
  },
  {
   "cell_type": "code",
   "execution_count": 3,
   "id": "16f16496",
   "metadata": {},
   "outputs": [
    {
     "name": "stdout",
     "output_type": "stream",
     "text": [
      "Name: Fathy\n",
      "Age: 22\n",
      "Length: 163.0\n",
      "Instance variable: Fathy\n",
      "Name: Hesham\n",
      "Age: 22\n",
      "Length: 165.0\n",
      "Class variable: 0.0\n",
      "\n",
      "--- Class Info ---\n",
      "Name: Fathy\n",
      "Age: 22\n",
      "Length: 163.0\n"
     ]
    }
   ],
   "source": [
    "'''\n",
    "- instance variable [variable return to object] ==> self.name, self.age, self.length \n",
    "- class variable [variable return to class] ==> name, age, length\n",
    "'''\n",
    "\n",
    "# Define a class named 'MyClass'\n",
    "class MyClass: \n",
    "    # Define class attributes with initial values\n",
    "    name = \"\"        # Class variable\n",
    "    age = 0          # Class variable\n",
    "    length = 0.0     # Class variable\n",
    "    wigth = 0.0      # Class variable\n",
    "    \n",
    "    # Create a class method using the @classmethod decorator\n",
    "    @classmethod\n",
    "    def classInfo(cls):\n",
    "        # Print class information\n",
    "        print(\"\\n--- Class Info ---\")\n",
    "    \n",
    "    # Define an instance method to set and print instance attributes\n",
    "    def info(self, p_name, p_age, p_length):\n",
    "        # Set instance variables using the provided parameters\n",
    "        self.name = p_name          # Instance variable\n",
    "        self.age = p_age            # Instance variable\n",
    "        self.length = p_length      # Instance variable\n",
    "        # Print instance variable values\n",
    "        print(\"Name:\", self.name)\n",
    "        print(\"Age:\", self.age)\n",
    "        print(\"Length:\", self.length)\n",
    "\n",
    "# Create an instance of the MyClass class named 'm1'\n",
    "m1 = MyClass()\n",
    "# Call the 'info' method on 'm1' with arguments \"Fathy\", 22, and 163.0\n",
    "m1.info(\"Fathy\", 22, 163.0)\n",
    "# Print the 'name' instance variable of 'm1'\n",
    "print(\"Instance variable:\", m1.name)\n",
    "\n",
    "# Create another instance of the MyClass class named 'm2'\n",
    "m2 = MyClass()\n",
    "# Call the 'info' method on 'm2' with arguments \"Hesham\", 22, and 165.0\n",
    "m2.info(\"Hesham\", 22, 165.0)\n",
    "# Print the 'wigth' class variable of the MyClass class\n",
    "print(\"Class variable:\", MyClass.wigth)\n",
    "\n",
    "# Call the class method 'classInfo' of the MyClass class\n",
    "MyClass.classInfo()\n",
    "\n",
    "# Call the instance method 'info' on the MyClass class, passing 'm1' as the first argument\n",
    "# This effectively calls 'm1.info(\"Fathy\", 22, 163.0)'\n",
    "MyClass.info(m1, \"Fathy\", 22, 163.0) # m1 = self"
   ]
  },
  {
   "cell_type": "markdown",
   "id": "b21061c5",
   "metadata": {},
   "source": [
    "# Inheritance"
   ]
  },
  {
   "cell_type": "code",
   "execution_count": 4,
   "id": "57974c2b",
   "metadata": {},
   "outputs": [
    {
     "name": "stdout",
     "output_type": "stream",
     "text": [
      "--- class A ---\n",
      "\n",
      "\n",
      "--- class B ---\n",
      "--- class A ---\n",
      "--- class A ---\n",
      "\n",
      "\n",
      "--- class C ---\n",
      "--- class B ---\n",
      "--- class A ---\n",
      "--- class A ---\n",
      "\n",
      "\n",
      "--- class B ---\n",
      "--- class A ---\n"
     ]
    }
   ],
   "source": [
    "class A:  # Indirect super class\n",
    "    age: int\n",
    "\n",
    "    def info1(self):\n",
    "        print(\"--- class A ---\")\n",
    "\n",
    "class B(A):  # Direct super class (subclass of A)\n",
    "    name: str\n",
    "\n",
    "    def info2(self):\n",
    "        print(\"--- class B ---\")\n",
    "        super().info1()  # Call the info1 method of the superclass A\n",
    "\n",
    "class C(B):  # Subclass of B (inherits from both A and B)\n",
    "    def info3(self):\n",
    "        print(\"--- class C ---\")\n",
    "\n",
    "# Create an instance of class A\n",
    "a1 = A()\n",
    "a1.info1()  # Call the info1 method of class A\n",
    "\n",
    "print(\"\\n\")\n",
    "\n",
    "# Create an instance of class B\n",
    "b1 = B()\n",
    "b1.info2()  # Call the info2 method of class B, which in turn calls info1 of class A\n",
    "b1.info1()  # Call the info1 method of class A using the instance of class B\n",
    "\n",
    "print(\"\\n\")\n",
    "\n",
    "# Create an instance of class C\n",
    "c1 = C()\n",
    "c1.info3()  # Call the info3 method of class C\n",
    "c1.info2()  # Call the info2 method of class B, which calls info1 of class A\n",
    "c1.info1()  # Call the info1 method of class A using the instance of class C\n",
    "\n",
    "print(\"\\n\")\n",
    "\n",
    "# Call the info2 method of class B separately\n",
    "b1.info2()"
   ]
  },
  {
   "cell_type": "markdown",
   "id": "923e39ea",
   "metadata": {},
   "source": [
    "#  Multi Inheritance, Override"
   ]
  },
  {
   "cell_type": "code",
   "execution_count": 5,
   "id": "f989b733",
   "metadata": {},
   "outputs": [
    {
     "name": "stdout",
     "output_type": "stream",
     "text": [
      "Hello From My Class A\n",
      "Hello From My Class B\n",
      "Hello From My Class C\n"
     ]
    }
   ],
   "source": [
    "# Define class A\n",
    "class A:\n",
    "    # Method in class A\n",
    "    def function1(self):\n",
    "        print(\"Hello From My Class A\")\n",
    "\n",
    "# Define class B, inheriting from class A\n",
    "class B(A):\n",
    "    # Override method function1 in class B\n",
    "    def function1(self):\n",
    "        print(\"Hello From My Class B\")\n",
    "\n",
    "# Define class C, inheriting from class A\n",
    "class C(A):\n",
    "    # Override method function1 in class C\n",
    "    def function1(self):\n",
    "        print(\"Hello From My Class C\")\n",
    "\n",
    "# Create instances of each class\n",
    "obj1 = A()\n",
    "obj2 = B()\n",
    "obj3 = C()\n",
    "\n",
    "# Call function1 for each object\n",
    "obj1.function1()  # Calls function1 from class A\n",
    "obj2.function1()  # Calls overridden function1 from class B\n",
    "obj3.function1()  # Calls overridden function1 from class C"
   ]
  },
  {
   "cell_type": "markdown",
   "id": "95edf2d8",
   "metadata": {},
   "source": [
    "# Constructor With Inheritance"
   ]
  },
  {
   "cell_type": "code",
   "execution_count": 6,
   "id": "4df05ac9",
   "metadata": {},
   "outputs": [
    {
     "name": "stdout",
     "output_type": "stream",
     "text": [
      "Name :  Fathy\n",
      "Age :  22\n",
      "\n",
      "Name :  Mustafa\n",
      "Age :  16\n"
     ]
    }
   ],
   "source": [
    "# Define a class named 'Person'\n",
    "class Person:\n",
    "    # Class attributes for 'name' and 'age'\n",
    "    name: str\n",
    "    age: int\n",
    "\n",
    "    # Constructor (__init__) initializes the object with the provided 'name' and 'age'\n",
    "    def __init__(self, name, age):\n",
    "        self.name = name\n",
    "        self.age = age\n",
    "\n",
    "    # Method to get the 'name' attribute\n",
    "    def getName(self):\n",
    "        return self.name\n",
    "\n",
    "    # Method to get the 'age' attribute\n",
    "    def getAge(self):\n",
    "        return self.age\n",
    "\n",
    "# Define a class named 'Student' that inherits from 'Person'\n",
    "class Student(Person):\n",
    "    # Constructor for 'Student' class, calling the constructor of the superclass ('Person') using 'super()'\n",
    "    def __init__(self, x, y):\n",
    "        super().__init__(x, y)\n",
    "\n",
    "# Create an instance of the 'Person' class\n",
    "obj1 = Person(\"Fathy\", 22)\n",
    "# Access and print the 'name' and 'age' attributes directly\n",
    "print(\"Name : \", obj1.name)  # Alternatively, obj1.getName() returns the same value\n",
    "print(\"Age : \", obj1.age)    # Alternatively, obj1.getAge() returns the same value\n",
    "\n",
    "# Create an instance of the 'Student' class\n",
    "obj2 = Student(\"Mustafa\", 16)\n",
    "# Access and print the 'name' and 'age' attributes directly (inherited from the 'Person' class)\n",
    "print(\"\\nName : \", obj2.name)\n",
    "print(\"Age : \", obj2.age)"
   ]
  },
  {
   "cell_type": "markdown",
   "id": "45ba3d99",
   "metadata": {},
   "source": [
    "# Nested Classes"
   ]
  },
  {
   "cell_type": "code",
   "execution_count": 7,
   "id": "40e13c99",
   "metadata": {},
   "outputs": [
    {
     "name": "stdout",
     "output_type": "stream",
     "text": [
      "Number A = 10\n",
      "Number B = 20\n",
      "Number C = 30\n"
     ]
    }
   ],
   "source": [
    "# Define the outer class A\n",
    "class A:\n",
    "    x: int\n",
    "    \n",
    "    # Method of class A\n",
    "    def myFunction1(self):\n",
    "        print(\"Number A =\", self.x)\n",
    "    \n",
    "    # Define a nested class B within class A\n",
    "    class B:\n",
    "        y: int\n",
    "        \n",
    "        # Method of nested class B\n",
    "        def myFunction2(self):\n",
    "            print(\"Number B =\", self.y)\n",
    "\n",
    "# Define a function a()\n",
    "def a():\n",
    "    # Define a local class C within the function\n",
    "    class C:\n",
    "        z: int\n",
    "        \n",
    "        # Method of local class C\n",
    "        def myFunction3(self):\n",
    "            print(\"Number C =\", self.z)\n",
    "    \n",
    "    # Create an instance of local class C\n",
    "    obj3 = C()\n",
    "    obj3.z = 30\n",
    "    obj3.myFunction3()\n",
    "\n",
    "# Create an instance of class A\n",
    "obj1 = A()\n",
    "obj1.x = 10\n",
    "obj1.myFunction1()\n",
    "\n",
    "# Create an instance of nested class B\n",
    "obj2 = A.B()\n",
    "obj2.y = 20\n",
    "obj2.myFunction2()\n",
    "\n",
    "# Call the function a()\n",
    "a()"
   ]
  },
  {
   "cell_type": "markdown",
   "id": "77eb1bff",
   "metadata": {},
   "source": [
    "# Polymorphism"
   ]
  },
  {
   "cell_type": "code",
   "execution_count": 8,
   "id": "16909043",
   "metadata": {},
   "outputs": [
    {
     "name": "stdout",
     "output_type": "stream",
     "text": [
      "Shape\n",
      "Circle\n",
      "Rectangle\n",
      "Square\n"
     ]
    }
   ],
   "source": [
    "# Define the base class Shape\n",
    "class Shape:\n",
    "    # Method to print a generic shape\n",
    "    def printValue(self):\n",
    "        print(\"Shape\")\n",
    "\n",
    "# Subclass Circle inheriting from Shape\n",
    "class Circle(Shape):\n",
    "    # Method to print a circle\n",
    "    def printValue(self):\n",
    "        print(\"Circle\")\n",
    "\n",
    "# Subclass Rectangle inheriting from Shape\n",
    "class Rectangle(Shape):\n",
    "    # Method to print a rectangle\n",
    "    def printValue(self):\n",
    "        print(\"Rectangle\")\n",
    "\n",
    "# Subclass Square inheriting from Shape\n",
    "class Square(Shape):\n",
    "    # Method to print a square\n",
    "    def printValue(self):\n",
    "        print(\"Square\")\n",
    "\n",
    "# Class A\n",
    "class A:\n",
    "    # Method to draw a shape\n",
    "    def draw(self, a: Shape):\n",
    "        a.printValue()\n",
    "\n",
    "# Create an instance of class A\n",
    "obj1 = A()\n",
    "\n",
    "# Call the draw method with instances of different shape classes\n",
    "obj1.draw(Shape())      # Calls printValue from Shape\n",
    "obj1.draw(Circle())     # Calls printValue from Circle\n",
    "obj1.draw(Rectangle())  # Calls printValue from Rectangle\n",
    "obj1.draw(Square())     # Calls printValue from Square"
   ]
  },
  {
   "cell_type": "markdown",
   "id": "f8f502d8",
   "metadata": {},
   "source": [
    "# Enum Class"
   ]
  },
  {
   "cell_type": "code",
   "execution_count": 9,
   "id": "1767409e",
   "metadata": {},
   "outputs": [
    {
     "name": "stdout",
     "output_type": "stream",
     "text": [
      "Animal.DOG\n",
      "Animal.DOG\n",
      "Animal.DOG\n",
      "DOG\n",
      "6\n",
      "<Animal.DOG: 6> \n",
      "\n",
      "<Animal.DOG: 6>\n",
      "<Animal.CAT: 2>\n",
      "<Animal.LION: 3>\n"
     ]
    }
   ],
   "source": [
    "from enum import Enum\n",
    "\n",
    "# Define the Animal enumeration\n",
    "class Animal(Enum):\n",
    "    DOG = 6\n",
    "    CAT = 2\n",
    "    LION = 3\n",
    "\n",
    "# Accessing elements of the enumeration\n",
    "print(Animal.DOG)           # Accessing an enum member\n",
    "print(Animal(6))             # Accessing an enum member by value\n",
    "print(Animal[\"DOG\"])         # Accessing an enum member by name\n",
    "\n",
    "# Accessing attributes of an enum member\n",
    "print(Animal.DOG.name)       # Accessing the name of the enum member\n",
    "print(Animal.DOG.value)      # Accessing the value of the enum member\n",
    "\n",
    "# Displaying the representation of an enum member\n",
    "print(repr(Animal.DOG), \"\\n\")\n",
    "\n",
    "# Iterating over all members of the enumeration\n",
    "for i in Animal:\n",
    "    print(repr(i))"
   ]
  }
 ],
 "metadata": {
  "kernelspec": {
   "display_name": "Python 3 (ipykernel)",
   "language": "python",
   "name": "python3"
  },
  "language_info": {
   "codemirror_mode": {
    "name": "ipython",
    "version": 3
   },
   "file_extension": ".py",
   "mimetype": "text/x-python",
   "name": "python",
   "nbconvert_exporter": "python",
   "pygments_lexer": "ipython3",
   "version": "3.11.7"
  }
 },
 "nbformat": 4,
 "nbformat_minor": 5
}
