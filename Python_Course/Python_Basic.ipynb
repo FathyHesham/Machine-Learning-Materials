{
 "cells": [
  {
   "cell_type": "markdown",
   "id": "e10aea62",
   "metadata": {},
   "source": [
    "# Output [ print () ]"
   ]
  },
  {
   "cell_type": "code",
   "execution_count": 1,
   "id": "f89c5bbb",
   "metadata": {},
   "outputs": [
    {
     "name": "stdout",
     "output_type": "stream",
     "text": [
      "Hello World!\n"
     ]
    }
   ],
   "source": [
    "# using function called print() to print any text and any value \n",
    "print(\"Hello World!\")"
   ]
  },
  {
   "cell_type": "code",
   "execution_count": 2,
   "id": "fb70928d",
   "metadata": {},
   "outputs": [
    {
     "name": "stdout",
     "output_type": "stream",
     "text": [
      "Hello-World!"
     ]
    }
   ],
   "source": [
    "# The print function is used to display output in Python.\n",
    "\n",
    "# \"Hello\" is the first string to be printed.\n",
    "# \"World\" is the second string to be printed.\n",
    "# The 'sep' parameter specifies the separator between the strings.\n",
    "# By default, 'sep' is a space, but here it is set to a hyphen (\"-\").\n",
    "# The 'end' parameter specifies what to print at the end of the output.\n",
    "# By default, 'end' is a newline character, but here it is set to an exclamation mark (\"!\").\n",
    "print(\"Hello\", \"World\", sep=\"-\", end=\"!\")"
   ]
  },
  {
   "cell_type": "markdown",
   "id": "3c188b37",
   "metadata": {},
   "source": [
    "# Variable Name\n",
    "\n",
    "A variable can have a short name (like x and y) or a more descriptive name (age, carname, total_volume). Rules for Python variables:\n",
    "    \n",
    "    • A variable name must start with a letter or the underscore character\n",
    "    • A variable name cannot start with a number\n",
    "    • A variable name can only contain alpha-numeric characters and underscores (A-z, 0-9, and _ )\n",
    "    • Variable names are case-sensitive (age, Age and AGE are three different variables)\n",
    "    • A variable name cannot be any of the Python keywords.\n",
    "\n",
    "* Ex : Legal variable names:\n",
    "\n",
    "    * myvar = \"John\"\n",
    "    * my_var = \"John\"\n",
    "    * _my_var = \"John\"\n",
    "    * myVar = \"John\"\n",
    "    * MYVAR = \"John\"\n",
    "    * myvar2 = \"John\"\n",
    "\n",
    "* Ex : Illegal variable names:\n",
    "\n",
    "    * 2myvar = \"John\"\n",
    "    * my-var = \"John\"\n",
    "    * my var = \"John\""
   ]
  },
  {
   "cell_type": "markdown",
   "id": "4915b6df",
   "metadata": {},
   "source": [
    "# Variables "
   ]
  },
  {
   "cell_type": "code",
   "execution_count": 3,
   "id": "e5581b85",
   "metadata": {},
   "outputs": [
    {
     "name": "stdout",
     "output_type": "stream",
     "text": [
      "--------- First Way ---------\n",
      "x =  10\n",
      "y =  3.14\n",
      "z =  F\n",
      "s =  False\n",
      "a =  Fathy\n",
      "\n",
      "--------- Second Way ---------\n",
      "x\n",
      "x =  10\n",
      "y =  3.14\n",
      "z =  F\n",
      "s =  True\n",
      "a =  Fathy\n",
      "\n",
      "--------- Third Way ---------\n",
      "x =  10\n",
      "y =  3.14\n",
      "z =  F\n",
      "s =  True\n",
      "a =  Fathy\n"
     ]
    }
   ],
   "source": [
    "# 1- first way\n",
    "x:int = 10\n",
    "y:float = 3.14\n",
    "z:chr(2) = 'F' # type: ignore\n",
    "s:bool = False \n",
    "a:str = \"Fathy\"\n",
    "\n",
    "print(\"--------- First Way ---------\")\n",
    "print(\"x = \" , x) # print the value in x\n",
    "print(\"y = \" , y) # print the value in y\n",
    "print(\"z = \" , z) # print the value in z\n",
    "print(\"s = \" , s) # print the value in s\n",
    "print(\"a = \" , a) # print the value in a\n",
    "\n",
    "\n",
    "# 2- second way\n",
    "x = 10 \n",
    "y = 3.14\n",
    "z = 'F'\n",
    "s = True\n",
    "a = \"Fathy\"\n",
    "\n",
    "print(\"\\n--------- Second Way ---------\")\n",
    "print(\"x\") # print x --> not value in x\n",
    "print(\"x = \" , x) # print the value in x\n",
    "print(\"y = \" , y) # print the value in y\n",
    "print(\"z = \" , z) # print the value in z\n",
    "print(\"s = \" , s) # print the value in s\n",
    "print(\"a = \" , a) # print the value in a\n",
    "\n",
    "# 3- third way \n",
    "x, y, z, s, a = 10, 3.14, 'F', True, \"Fathy\"\n",
    "\n",
    "print(\"\\n--------- Third Way ---------\")\n",
    "print(\"x = \" , x) # print the value in x\n",
    "print(\"y = \" , y) # print the value in y\n",
    "print(\"z = \" , z) # print the value in z\n",
    "print(\"s = \" , s) # print the value in s\n",
    "print(\"a = \" , a) # print the value in a"
   ]
  },
  {
   "cell_type": "markdown",
   "id": "dce02b0b",
   "metadata": {},
   "source": [
    "# Type Casting"
   ]
  },
  {
   "cell_type": "code",
   "execution_count": 4,
   "id": "eaaa1c0c",
   "metadata": {},
   "outputs": [
    {
     "name": "stdout",
     "output_type": "stream",
     "text": [
      "10.0 <class 'float'>\n",
      "10 Hello World! <class 'str'>\n",
      "True <class 'bool'>\n"
     ]
    }
   ],
   "source": [
    "# convet int to float or string or bool\n",
    "x = 10\n",
    "v1 = float(x) # convet int to float\n",
    "v2 = str(x) + \" \" + \"Hello World!\" # convert int to string\n",
    "v3 = bool(x) # convert int to bool\n",
    "\n",
    "# using function called \"type()\" to know the datatype of value\n",
    "print(v1 , type(v1))   \n",
    "print(v2 , type(v2))\n",
    "print(v3 , type(v3))"
   ]
  },
  {
   "cell_type": "markdown",
   "id": "4e9309ef",
   "metadata": {},
   "source": [
    "# Input User"
   ]
  },
  {
   "cell_type": "code",
   "execution_count": 5,
   "id": "8575a3d6",
   "metadata": {},
   "outputs": [
    {
     "name": "stdout",
     "output_type": "stream",
     "text": [
      "Your Age is 23 Years Old\n",
      "Type of value 'age' is :  <class 'int'>\n"
     ]
    }
   ],
   "source": [
    "# using function called \"input('write any text')\" to input user in app\n",
    "# If you need to use this value \" age \" to perform any calculation, \n",
    "# you must convert this value because it string\n",
    "\n",
    "# Prompt the user to enter their age and convert the input to an integer\n",
    "age = int(input(\"Please Enter Your Age : \"))\n",
    "\n",
    "# Display the entered age along with a descriptive message\n",
    "print(\"Your Age is\", age, \"Years Old\")\n",
    "\n",
    "# Display the data type of the variable 'age'\n",
    "print(\"Type of value 'age' is : \", type(age))"
   ]
  },
  {
   "cell_type": "markdown",
   "id": "ebf56236",
   "metadata": {},
   "source": [
    "# App 1 Get My Age"
   ]
  },
  {
   "cell_type": "code",
   "execution_count": 6,
   "id": "d789872d",
   "metadata": {},
   "outputs": [
    {
     "name": "stdout",
     "output_type": "stream",
     "text": [
      "Your Age is 23 Years Old\n"
     ]
    }
   ],
   "source": [
    "# Import the datetime module to work with dates\n",
    "import datetime\n",
    "\n",
    "# Get the current year using the datetime module\n",
    "year = datetime.datetime.now().year\n",
    "\n",
    "# Prompt the user to enter their birth year and convert the input to an integer\n",
    "getAge = int(input(\"Please Enter Your Birth Year : \"))\n",
    "\n",
    "# Calculate the age by subtracting the entered birth year from the current year\n",
    "age = year - getAge\n",
    "\n",
    "# Display the calculated age\n",
    "print(\"Your Age is\", age, \"Years Old\")"
   ]
  },
  {
   "cell_type": "markdown",
   "id": "c1598324",
   "metadata": {},
   "source": [
    "# Operations\n",
    "\n",
    "#### Python divides the operators in the following groups:\n",
    "\n",
    "* Arithmetic operators\n",
    "* Assignment operators\n",
    "* Comparison operators\n",
    "* Logical operators\n",
    "* Identity operators\n",
    "* Membership operators\n",
    "* Bitwise operators"
   ]
  },
  {
   "cell_type": "markdown",
   "id": "87be10dd",
   "metadata": {},
   "source": [
    "# Arithmetic Operators"
   ]
  },
  {
   "cell_type": "code",
   "execution_count": 7,
   "id": "a4fe6dc0",
   "metadata": {},
   "outputs": [
    {
     "name": "stdout",
     "output_type": "stream",
     "text": [
      "Sum =  12\n",
      "Sub =  8\n",
      "Multi =  20\n",
      "Div =  5.0\n",
      "Mod =  0\n",
      "'x' power 'y' =  100\n",
      "'x' power 'y' =  100\n"
     ]
    }
   ],
   "source": [
    "# Prompt the user to enter two numbers and convert the input to integers\n",
    "x = int(input(\"Enter Number 1 : \"))\n",
    "y = int(input(\"Enter Number 2 : \"))\n",
    "\n",
    "# Display the sum of the two numbers\n",
    "print(\"Sum = \", x + y)\n",
    "\n",
    "# Display the difference between the two numbers\n",
    "print(\"Sub = \", x - y)\n",
    "\n",
    "# Display the product of the two numbers\n",
    "print(\"Multi = \", x * y)\n",
    "\n",
    "# Display the result of dividing the first number by the second number\n",
    "print(\"Div = \", x / y)\n",
    "\n",
    "# Display the remainder when the first number is divided by the second number\n",
    "print(\"Mod = \", x % y)\n",
    "\n",
    "# Display the result of raising the first number to the power of the second number\n",
    "print(\"'x' power 'y' = \", x ** y)\n",
    "\n",
    "# Display the result of raising the first number to the power of the second number using the pow() function\n",
    "print(\"'x' power 'y' = \", pow(x, y))"
   ]
  },
  {
   "cell_type": "markdown",
   "id": "6cdf4a22",
   "metadata": {},
   "source": [
    "# Assignment operators\n",
    "\n"
   ]
  },
  {
   "cell_type": "code",
   "execution_count": 8,
   "id": "2e90e995",
   "metadata": {},
   "outputs": [
    {
     "data": {
      "text/plain": [
       "True"
      ]
     },
     "execution_count": 8,
     "metadata": {},
     "output_type": "execute_result"
    }
   ],
   "source": [
    "x = 10 # Assignemt operation called \" = \"\n",
    "y = 2 # Assignemt operation called \" = \"\n",
    "x += y # output ==> the same ( x = x + y ) , x = 10 + 2 , x = 12\n",
    "x -= y # output ==> the same ( x = x - y ) , x = 10 - 2 , x = 8\n",
    "x *= y # output ==> the same ( x = x * y ) , x = 10 * 2 , x = 20\n",
    "x /= y # output ==> the same ( x = x / y ) , x = 10 / 2 , x = 5\n",
    "x %= y # output ==> the same ( x = x % y ) , x = 10 % 2 , x = 0\n",
    "x **= y # output ==> the same ( x = x ** y ) , x = 10 ** 2 , x = 100\n",
    "x != y # output ==> the same ( equal or not x = y ) , x = 10, y = 2 , output ==> true -> not equal"
   ]
  },
  {
   "cell_type": "markdown",
   "id": "61e7d7cb",
   "metadata": {},
   "source": [
    "# Comparison Operators"
   ]
  },
  {
   "cell_type": "code",
   "execution_count": 9,
   "id": "0aeb4301",
   "metadata": {},
   "outputs": [
    {
     "name": "stdout",
     "output_type": "stream",
     "text": [
      "x > y :  False\n",
      "x < y :  True\n",
      "x >= y :  False\n",
      "x <= y :  True\n",
      "x == y :  False\n",
      "x != y :  True\n"
     ]
    }
   ],
   "source": [
    "# Assign values to variables x and y\n",
    "x, y = 2, 8\n",
    "\n",
    "# Compare x and y using the greater than operator\n",
    "print(\"x > y : \", x > y)\n",
    "\n",
    "# Compare x and y using the less than operator\n",
    "print(\"x < y : \", x < y)\n",
    "\n",
    "# Compare x and y using the greater than or equal to operator\n",
    "print(\"x >= y : \", x >= y)\n",
    "\n",
    "# Compare x and y using the less than or equal to operator\n",
    "print(\"x <= y : \", x <= y)\n",
    "\n",
    "# Check if x is equal to y\n",
    "print(\"x == y : \", x == y)\n",
    "\n",
    "# Check if x is not equal to y\n",
    "print(\"x != y : \", x != y)"
   ]
  },
  {
   "cell_type": "markdown",
   "id": "5b20cd76",
   "metadata": {},
   "source": [
    "# Logical Operators\n"
   ]
  },
  {
   "cell_type": "code",
   "execution_count": 10,
   "id": "042bc28e",
   "metadata": {},
   "outputs": [
    {
     "name": "stdout",
     "output_type": "stream",
     "text": [
      "x > 0 and y > 0 : True\n",
      "x > 0 or y > 0 : True\n",
      "Not x > 0 and y > 0 : False\n",
      "Not x > 0 or y > 0 : False\n"
     ]
    }
   ],
   "source": [
    "# Assign values to variables x and y\n",
    "x, y = 2, 8\n",
    "\n",
    "# Check if both x and y are greater than 0\n",
    "print(\"x > 0 and y > 0 :\", x > 0 and y > 0)\n",
    "\n",
    "# Check if either x or y is greater than 0\n",
    "print(\"x > 0 or y > 0 :\", x > 0 or y > 0)\n",
    "\n",
    "# Check if not both x is greater than 0 and y is greater than 0\n",
    "print(\"Not x > 0 and y > 0 :\", not(x > 0 and y > 0))\n",
    "\n",
    "# Check if not either x is greater than 0 or y is greater than 0\n",
    "print(\"Not x > 0 or y > 0 :\", not(x > 0 or y > 0))"
   ]
  },
  {
   "cell_type": "markdown",
   "id": "5a81d81a",
   "metadata": {},
   "source": [
    "# Identity Operators"
   ]
  },
  {
   "cell_type": "code",
   "execution_count": 11,
   "id": "6b362973",
   "metadata": {},
   "outputs": [
    {
     "name": "stdout",
     "output_type": "stream",
     "text": [
      "x is y : False\n",
      "x is not y : True\n"
     ]
    }
   ],
   "source": [
    "# Assign values to variables x and y\n",
    "x, y = 2, 8   \n",
    "\n",
    "# Check if x and y refer to the same object in memory\n",
    "print(\"x is y :\", x is y)\n",
    "\n",
    "# Check if x and y do not refer to the same object in memory\n",
    "print(\"x is not y :\", x is not y)"
   ]
  },
  {
   "cell_type": "markdown",
   "id": "abca5796",
   "metadata": {},
   "source": [
    "# Membership Operators"
   ]
  },
  {
   "cell_type": "code",
   "execution_count": 12,
   "id": "f2063757",
   "metadata": {},
   "outputs": [
    {
     "name": "stdout",
     "output_type": "stream",
     "text": [
      "Y in x : True\n",
      "Y not in x : False\n"
     ]
    }
   ],
   "source": [
    "# Assign a list of integers [1, 2, 3, 4, 5] to variable x\n",
    "x = [1, 2, 3, 4, 5]\n",
    "\n",
    "# Assign the integer 3 to variable y\n",
    "y = 3\n",
    "\n",
    "# Use an f-string to print a message along with the result of the expression (y in x)\n",
    "# 'y in x' checks if the value of y (3) is present in the list x ([1, 2, 3, 4, 5])\n",
    "print(f\"Y in x : {y in x}\")\n",
    "\n",
    "# Use an f-string to print a message along with the result of the expression (y not in x)\n",
    "# 'y not in x' checks if the value of y (3) is not present in the list x ([1, 2, 3, 4, 5])\n",
    "print(f\"Y not in x : {y not in x}\")"
   ]
  },
  {
   "cell_type": "markdown",
   "id": "c26ad2e2",
   "metadata": {},
   "source": [
    "# Bitwise Operators"
   ]
  },
  {
   "cell_type": "code",
   "execution_count": 14,
   "id": "fa0d9313",
   "metadata": {},
   "outputs": [
    {
     "name": "stdout",
     "output_type": "stream",
     "text": [
      "x > y & x < z : False\n",
      "x > y & x < z : False\n",
      "not(~) x : -11\n",
      "x xor y : 5\n",
      "shift left << x : 40\n",
      "shift right >> x : 2\n"
     ]
    }
   ],
   "source": [
    "# Assign the integer 10 to variable x\n",
    "# Assign the integer 15 to variable y\n",
    "# Assign the integer 5 to variable z\n",
    "x, y, z = 10, 15, 5\n",
    "\n",
    "# Use an f-string to print a message along with the result of the expression (x > y) & (x < z)\n",
    "# '&' is the bitwise AND operator, which operates on individual bits.\n",
    "# However, here it is used with boolean expressions, and its behavior is similar to logical AND.\n",
    "print(f\"x > y & x < z : {(x > y) & (x < z)}\")\n",
    "\n",
    "# Use an f-string to print a message along with the result of the expression (x > y) | (x < z)\n",
    "# '|' is the bitwise OR operator, which operates on individual bits.\n",
    "# Here it is used with boolean expressions, and its behavior is similar to logical OR.\n",
    "print(f\"x > y & x < z : {(x > y) | (x < z)}\")\n",
    "\n",
    "# Use an f-string to print a message along with the result of the bitwise NOT operation on x\n",
    "# '~x' inverts the bits of x.\n",
    "print(f\"not(~) x : {~x}\")\n",
    "\n",
    "# Use an f-string to print a message along with the result of the bitwise XOR operation between x and y\n",
    "# '^' is the bitwise XOR operator, which performs an exclusive OR operation on each bit of x and y.\n",
    "print(f\"x xor y : {x ^ y}\")\n",
    "\n",
    "# Use an f-string to print a message along with the result of shifting the bits of x to the left by 2 positions\n",
    "# '<<' is the left shift operator, which shifts the bits of x left by the specified number of positions.\n",
    "print(f\"shift left << x : {x << 2}\")\n",
    "\n",
    "# Use an f-string to print a message along with the result of shifting the bits of x to the right by 2 positions\n",
    "# '>>' is the right shift operator, which shifts the bits of x right by the specified number of positions.\n",
    "print(f\"shift right >> x : {x >> 2}\")"
   ]
  },
  {
   "cell_type": "markdown",
   "id": "8db8dc70",
   "metadata": {},
   "source": [
    "#### **How the bitwise operator \"xor ^\" work ?**\n",
    "\n",
    "\"\"\"\n",
    "    The ~ operator inverts each bit (0 becomes 1 and 1 becomes 0).\n",
    "    print(~3)\n",
    "    \n",
    "    Inverted 3 becomes -4:\n",
    "    3 = 0000000000000011\n",
    "    -4 = 1111111111111100\n",
    "\"\"\"\n",
    "\n",
    "#### **How the bitwise operator \"not ~\" work ?** \n",
    "\n",
    "\"\"\"\n",
    "    The ~ operator inverts each bit (0 becomes 1 and 1 becomes 0).\n",
    "    print(~3)\n",
    "    \n",
    "    Inverted 3 becomes -4:\n",
    "    3 = 0000000000000011\n",
    "    -4 = 1111111111111100\n",
    "\"\"\"\n",
    "\n",
    "#### **How the bitwise operator \"shift <<\" work ?**\n",
    "\n",
    "\"\"\"\n",
    "    The << operator inserts the specified number of 0's (in this case 2) from the right and let the same amount of leftmost bits fall off:\n",
    "    print(3 << 2)\n",
    "\n",
    "    If you push 00 in from the left:\n",
    "    3 = 0000000000000011\n",
    "    becomes\n",
    "    12 = 0000000000001100\n",
    "\"\"\""
   ]
  },
  {
   "cell_type": "markdown",
   "id": "f2140134",
   "metadata": {},
   "source": [
    "# Order of Operation\n"
   ]
  },
  {
   "cell_type": "code",
   "execution_count": null,
   "id": "09daadf8",
   "metadata": {},
   "outputs": [
    {
     "name": "stdout",
     "output_type": "stream",
     "text": [
      "Result Python =  11.5\n",
      "Result =  7.5\n"
     ]
    }
   ],
   "source": [
    "'''\n",
    "** Precedence in arithmetic operations **\n",
    "1- Mod -> \"%\"\n",
    "2- Div -> \"/\"\n",
    "3- Multi -> \"*\"\n",
    "4- Sum -> \"+\"\n",
    "5- Sub -> \"-\"\n",
    "'''\n",
    "# Assign values to variables x and y\n",
    "x , y = 8 , 7\n",
    "\n",
    "print(\"Result Python = \", x+y / 2)  # result => 7.5 , ## result python => 11.5\n",
    "# Solve this problem to brackets around a part of Sum \n",
    "print(\"Result = \", (x+y) / 2)  # result => 7.5"
   ]
  },
  {
   "cell_type": "markdown",
   "id": "ece19f1c",
   "metadata": {},
   "source": [
    "# If Statements"
   ]
  },
  {
   "cell_type": "code",
   "execution_count": 16,
   "id": "9acb6eba",
   "metadata": {},
   "outputs": [
    {
     "name": "stdout",
     "output_type": "stream",
     "text": [
      "10 Is Positive\n"
     ]
    }
   ],
   "source": [
    "# Prompt the user to enter any number and convert the input to an integer\n",
    "x = int(input(\"Enter Any Number : \"))\n",
    "\n",
    "# write \"if statement\" to way if (statement): or if statement:\n",
    "# Check if the entered number is positive\n",
    "if x > 0:\n",
    "    print(x, \"Is Positive\")\n",
    "# Check if the entered number is negative\n",
    "elif x < 0:\n",
    "    print(x, \"Is Negative\")\n",
    "# If neither of the above conditions is true, the number is zero\n",
    "else:\n",
    "    print(x, \"Is Zero\")"
   ]
  },
  {
   "cell_type": "code",
   "execution_count": 17,
   "id": "2389d4df",
   "metadata": {},
   "outputs": [
    {
     "name": "stdout",
     "output_type": "stream",
     "text": [
      "ناجح بدرجات الرأفه\n"
     ]
    }
   ],
   "source": [
    "# Prompt the user to enter their degree and convert the input to an integer\n",
    "degree = int(input(\"Enter Your Degree : \"))\n",
    "\n",
    "# Check if the degree is greater than or equal to 50\n",
    "if degree >= 50:\n",
    "    print(\"ناحج\")  # Successful\n",
    "\n",
    "# If the degree is less than 50, check for additional conditions\n",
    "else:\n",
    "    # Check if the degree is greater than or equal to 45\n",
    "    if degree >= 45:\n",
    "        print(\"ناجح بدرجات الرأفه\")  # Passed with mercy grades\n",
    "    else:\n",
    "        print(\"راسب\")  # Failed"
   ]
  },
  {
   "cell_type": "markdown",
   "id": "fc22dcef",
   "metadata": {},
   "source": [
    "# While"
   ]
  },
  {
   "cell_type": "code",
   "execution_count": 18,
   "id": "c9a4fecb",
   "metadata": {},
   "outputs": [
    {
     "name": "stdout",
     "output_type": "stream",
     "text": [
      "Hello World!\n",
      "Hello World!\n",
      "Hello World!\n",
      "Hello World!\n",
      "Hello World!\n"
     ]
    }
   ],
   "source": [
    "# Assign values to variables x and i\n",
    "x , i = \"Hello World!\" , 0\n",
    "\n",
    "while i < 5:\n",
    "    print(x)   # print only x , take infinity loop , x always less than 10\n",
    "    # solve this problem put i+=1\n",
    "    i += 1 # Called Assignment Operation \"increment operation\""
   ]
  },
  {
   "cell_type": "code",
   "execution_count": 19,
   "id": "531d7167",
   "metadata": {},
   "outputs": [
    {
     "name": "stdout",
     "output_type": "stream",
     "text": [
      "Hello World!\n",
      "Hello World!\n",
      "Hello World!\n",
      "Hello World!\n",
      "Hello World!\n"
     ]
    }
   ],
   "source": [
    "# Assign values to variables x and i\n",
    "x , i = \"Hello World!\" , 10\n",
    "\n",
    "while i > 5:\n",
    "    print(x)   # print only x , take infinity loop , x always less than 10\n",
    "    # solve this problem put i+=1\n",
    "    i -= 1 # Called Assignment Operation \"decrement operation\""
   ]
  },
  {
   "cell_type": "markdown",
   "id": "ea3a9b37",
   "metadata": {},
   "source": [
    "# For Loop"
   ]
  },
  {
   "cell_type": "code",
   "execution_count": 20,
   "id": "963bc04c",
   "metadata": {},
   "outputs": [
    {
     "name": "stdout",
     "output_type": "stream",
     "text": [
      "Hello World!\n",
      "Hello World!\n",
      "Hello World!\n",
      "Hello World!\n",
      "Hello World!\n"
     ]
    }
   ],
   "source": [
    "# Assign the string \"Hello World!\" to the variable x\n",
    "x = \"Hello World!\"\n",
    "\n",
    "# Iterate through the range 0 to 4 (5 times)\n",
    "for i in range(5):\n",
    "    # Print the value of x in each iteration\n",
    "    print(x)"
   ]
  },
  {
   "cell_type": "markdown",
   "id": "c37e802d",
   "metadata": {},
   "source": [
    "# Nested Loops"
   ]
  },
  {
   "cell_type": "code",
   "execution_count": 21,
   "id": "12a28470",
   "metadata": {},
   "outputs": [
    {
     "name": "stdout",
     "output_type": "stream",
     "text": [
      "1 * 1 = 1\n",
      "1 * 2 = 2\n",
      "1 * 3 = 3\n",
      "1 * 4 = 4\n",
      "1 * 5 = 5\n",
      "2 * 1 = 2\n",
      "2 * 2 = 4\n",
      "2 * 3 = 6\n",
      "2 * 4 = 8\n",
      "2 * 5 = 10\n",
      "3 * 1 = 3\n",
      "3 * 2 = 6\n",
      "3 * 3 = 9\n",
      "3 * 4 = 12\n",
      "3 * 5 = 15\n",
      "4 * 1 = 4\n",
      "4 * 2 = 8\n",
      "4 * 3 = 12\n",
      "4 * 4 = 16\n",
      "4 * 5 = 20\n",
      "5 * 1 = 5\n",
      "5 * 2 = 10\n",
      "5 * 3 = 15\n",
      "5 * 4 = 20\n",
      "5 * 5 = 25\n"
     ]
    }
   ],
   "source": [
    "# Outer loop iterating over values from 0 to 4\n",
    "for i in range(5):\n",
    "    # Inner loop iterating over values from 0 to 4\n",
    "    for j in range(5):\n",
    "        # Print the multiplication table entry for (i + 1) * (j + 1)\n",
    "        print(i + 1, \"*\", j + 1, \"=\", (i + 1) * (j + 1))"
   ]
  },
  {
   "cell_type": "code",
   "execution_count": 22,
   "id": "0a22265e",
   "metadata": {},
   "outputs": [
    {
     "name": "stdout",
     "output_type": "stream",
     "text": [
      "1 * 1 = 1\n",
      "1 * 2 = 2\n",
      "1 * 3 = 3\n",
      "1 * 4 = 4\n",
      "1 * 5 = 5\n",
      "2 * 1 = 2\n",
      "2 * 2 = 4\n",
      "2 * 3 = 6\n",
      "2 * 4 = 8\n",
      "2 * 5 = 10\n",
      "3 * 1 = 3\n",
      "3 * 2 = 6\n",
      "3 * 3 = 9\n",
      "3 * 4 = 12\n",
      "3 * 5 = 15\n",
      "4 * 1 = 4\n",
      "4 * 2 = 8\n",
      "4 * 3 = 12\n",
      "4 * 4 = 16\n",
      "4 * 5 = 20\n",
      "5 * 1 = 5\n",
      "5 * 2 = 10\n",
      "5 * 3 = 15\n",
      "5 * 4 = 20\n",
      "5 * 5 = 25\n"
     ]
    }
   ],
   "source": [
    "# Initialize the outer loop variable\n",
    "i = 1\n",
    "# Outer loop: continues while i is less than or equal to 5\n",
    "while i <= 5:\n",
    "    # Initialize the inner loop variable\n",
    "    j = 1\n",
    "    # Inner loop: continues while j is less than or equal to 5\n",
    "    while j <= 5:\n",
    "        # Print the multiplication table entry for i * j\n",
    "        print(i, \"*\", j, \"=\", i * j)\n",
    "        # Increment the inner loop variable\n",
    "        j += 1\n",
    "    # Increment the outer loop variable\n",
    "    i += 1"
   ]
  },
  {
   "cell_type": "markdown",
   "id": "af6d4f98",
   "metadata": {},
   "source": [
    "# Control Statements "
   ]
  },
  {
   "cell_type": "code",
   "execution_count": 1,
   "id": "633afe6e",
   "metadata": {},
   "outputs": [
    {
     "name": "stdout",
     "output_type": "stream",
     "text": [
      "x =  0\n",
      "x =  1\n",
      "y =  0\n",
      "y =  1\n",
      "y =  3\n",
      "y =  4\n"
     ]
    }
   ],
   "source": [
    "# First loop using range(5)\n",
    "for x in range(5):\n",
    "    # Check if x is equal to 2\n",
    "    if x == 2:\n",
    "        # If x is 2, break out of the loop\n",
    "        break\n",
    "    # Print the current value of x\n",
    "    print(\"x = \", x)\n",
    "\n",
    "# Second loop using range(5)\n",
    "for y in range(5):\n",
    "    # Check if x is equal to 2 (Note: this should likely be y == 2 instead of x == 2)\n",
    "    if y == 2:\n",
    "        # If y is 2, continue to the next iteration of the loop\n",
    "        continue\n",
    "    # Print the current value of y\n",
    "    print(\"y = \", y)"
   ]
  },
  {
   "cell_type": "markdown",
   "id": "56e66c7f",
   "metadata": {},
   "source": [
    "# App 2 Degree"
   ]
  },
  {
   "cell_type": "code",
   "execution_count": 24,
   "id": "62e70ba0",
   "metadata": {},
   "outputs": [
    {
     "name": "stdout",
     "output_type": "stream",
     "text": [
      "Degree : A\n",
      "Degree : A-\n",
      "Degree : B\n",
      "Degree : D\n",
      "assed with mercy grades, Degree : D\n",
      "assed with mercy grades, Degree : D\n",
      "Degree : F\n",
      "Degree : F\n"
     ]
    }
   ],
   "source": [
    "# Run an infinite loop (break condition inside the loop)\n",
    "while True:\n",
    "   \n",
    "    # Prompt the user to enter their degree and convert the input to an integer\n",
    "    degree = int(input(\"Please Enter Your Degree : \"))\n",
    "        \n",
    "    # Break the loop if the degree is outside the valid range [0, 100]\n",
    "    if ((degree > 100) or (degree < 0)):\n",
    "        break\n",
    "        \n",
    "    # Assign letter grades based on the entered degree\n",
    "    if ((degree <= 100) and (degree >= 90)):\n",
    "        # Print \"Degree : A\" if the degree is between 90 and 100 (inclusive)\n",
    "        print(\"Degree : A\")\n",
    "    elif ((degree < 90) and (degree >= 85)):\n",
    "        # Print \"Degree : A-\" if the degree is between 85 and 89 (inclusive)\n",
    "        print(\"Degree : A-\")\n",
    "    elif ((degree < 85) and (degree >= 80)):\n",
    "        # Print \"Degree : B+\" if the degree is between 80 and 84 (inclusive)\n",
    "        print(\"Degree : B+\")\n",
    "    elif ((degree < 80) and (degree >= 75)):\n",
    "        # Print \"Degree : B\" if the degree is between 75 and 79 (inclusive)\n",
    "        print(\"Degree : B\")\n",
    "    elif ((degree < 75) and (degree >= 70)):\n",
    "        # Print \"Degree : B-\" if the degree is between 70 and 74 (inclusive)\n",
    "        print(\"Degree : B-\")\n",
    "    elif ((degree < 70) and (degree >= 65)):\n",
    "        # Print \"Degree : C+\" if the degree is between 65 and 69 (inclusive)\n",
    "        print(\"Degree : C+\")\n",
    "    elif ((degree < 65) and (degree >= 60)):\n",
    "        # Print \"Degree : C\" if the degree is between 60 and 64 (inclusive)\n",
    "        print(\"Degree : C\")\n",
    "    elif ((degree < 60) and (degree >= 55)):\n",
    "        # Print \"Degree : C-\" if the degree is between 55 and 59 (inclusive)\n",
    "        print(\"Degree : C-\")\n",
    "    elif ((degree < 55) and (degree >= 50)):\n",
    "        # Print \"Degree : D\" if the degree is between 50 and 54 (inclusive)\n",
    "        print(\"Degree : D\")\n",
    "    else:\n",
    "        # Special case for degrees between 45 and 49\n",
    "        if degree >= 45:\n",
    "            # Print \"Passed with mercy grades, Degree : D\" if the degree is between 45 and 49 (inclusive)\n",
    "            print(\"Passed with mercy grades, Degree : D\")\n",
    "        else:\n",
    "            # Print \"Degree : F\" if the degree is below 45\n",
    "            print(\"Degree : F\")"
   ]
  },
  {
   "cell_type": "markdown",
   "id": "08e4022b",
   "metadata": {},
   "source": [
    "# Exception Handling\n",
    "\n",
    "* SyntaxError: This exception is raised when the interpreter encounters a syntax error in the code, such as a misspelled keyword, a missing colon, or an unbalanced parenthesis.\n",
    "* TypeError: This exception is raised when an operation or function is applied to an object of the wrong type, such as adding a string to an integer.\n",
    "* NameError: This exception is raised when a variable or function name is not found in the current scope.\n",
    "* IndexError: This exception is raised when an index is out of range for a list, tuple, or other sequence types.\n",
    "* KeyError: This exception is raised when a key is not found in a dictionary.\n",
    "* ValueError: This exception is raised when a function or method is called with an invalid argument or input, such as trying to convert a string to an integer when the string does not represent a valid integer.\n",
    "* AttributeError: This exception is raised when an attribute or method is not found on an object, such as trying to access a non-existent attribute of a class instance.\n",
    "* IOError: This exception is raised when an I/O operation, such as reading or writing a file, fails due to an input/output error.\n",
    "* ZeroDivisionError: This exception is raised when an attempt is made to divide a number by zero.\n",
    "* ImportError: This exception is raised when an import statement fails to find or load a module."
   ]
  },
  {
   "cell_type": "code",
   "execution_count": 5,
   "id": "b9f64503",
   "metadata": {},
   "outputs": [
    {
     "name": "stdout",
     "output_type": "stream",
     "text": [
      "Your Entered Wrong Value \n",
      "\n",
      "Your Age Is 23 Years Old\n"
     ]
    }
   ],
   "source": [
    "# Run an infinite loop\n",
    "while True:\n",
    "    try:\n",
    "        # Attempt to convert the user input to an integer\n",
    "        age = int(input(\"Enter Your Age : \"))\n",
    "        \n",
    "        # If successful, print the age and break out of the loop\n",
    "        print(\"Your Age Is\", age, \"Years Old\")\n",
    "        break\n",
    "    \n",
    "    except Exception as ex:\n",
    "        # If an exception (error) occurs during conversion, print an error message and continue the loop\n",
    "        print(\"Your Entered Wrong Value \\n\")"
   ]
  },
  {
   "cell_type": "code",
   "execution_count": 14,
   "id": "79a7ae06",
   "metadata": {},
   "outputs": [
    {
     "name": "stdout",
     "output_type": "stream",
     "text": [
      "Please, Don't Divide Number By Zero \n",
      "\n",
      "ValueError. Please, Enter Number \n",
      "\n",
      "Div = 2.0\n"
     ]
    }
   ],
   "source": [
    "# Run an infinite loop\n",
    "while True:\n",
    "    try:\n",
    "        # Attempt to convert the user input to integers\n",
    "        x = int(input(\"Enter Number 1 : \"))\n",
    "        y = int(input(\"Enter Number 2 : \"))\n",
    "        # Attempt to perform division and print the result\n",
    "        print(\"Div =\", x / y)\n",
    "        # Break out of the loop if successful\n",
    "        break\n",
    "    \n",
    "    except ValueError as ex:\n",
    "        # Handle the case where the input is not a valid integer\n",
    "        print(\"ValueError. Please, Enter Number \\n\")\n",
    "    \n",
    "    except ZeroDivisionError as ex:\n",
    "        # Handle the case where division by zero is attempted\n",
    "        print(\"Please, Don't Divide Number By Zero \\n\")\n"
   ]
  },
  {
   "cell_type": "markdown",
   "id": "f2c178bf",
   "metadata": {},
   "source": [
    "# List, Tuple, Dictionary "
   ]
  },
  {
   "cell_type": "code",
   "execution_count": 15,
   "id": "5c959651",
   "metadata": {},
   "outputs": [
    {
     "name": "stdout",
     "output_type": "stream",
     "text": [
      "My List : [2, 4, 6, 8]\n",
      "My Tuple : (2, 4, 6, 8)\n",
      "My Dictionary : {1: 'One', 2: 'Two', 3: 'Three'}\n",
      "\n",
      "myList[0] :  2\n",
      "myTuple[1] :  4\n",
      "myDic[3] :  Three\n",
      "\n",
      "Update The List :  [1, 4, 6, 8]\n",
      "\n",
      "Two Dim List [0] :  [1, 3, 5, 7]\n",
      "Two Dim List [1] :  [2, 4, 6, 8]\n",
      "Index 0 in first list :  1\n",
      "Index 0 in second list :  2\n",
      "\n",
      "Two Dim Tuple [0] :  (1, 2, 3, 4)\n",
      "Two Dim Tuple [1] :  (5, 6, 7, 8)\n",
      "Two Dim Tuple [2] :  (9, 10, 11, 12)\n",
      "Index 0 in first Tuple :  1\n",
      "Index 0 in second Tuple :  6\n",
      "Index 0 in third Tuple :  12\n"
     ]
    }
   ],
   "source": [
    "# List [], Tuple (), Dictionary {}\n",
    "\n",
    "x = [2, 4, 6, 8] # List\n",
    "y = (2, 4, 6, 8) # Tuple\n",
    "z = {1: \"One\", 2: \"Two\", 3: \"Three\"} # Dictionary {Key: value}\n",
    "\n",
    "print(\"My List :\", x)  # output [2, 4, 6, 8]\n",
    "print(\"My Tuple :\", y) # output (2, 4, 6, 8)\n",
    "print(\"My Dictionary :\", z) # output {1: \"One\", 2: \"Two\", 3: \"Three\"}\n",
    "\n",
    "print(\"\\nmyList[0] : \", x[0]) # output ==> 2\n",
    "print(\"myTuple[1] : \", y[1]) # output ==> 4\n",
    "print(\"myDic[3] : \", z[3]) # output ==> Three \"value of key named 3\"\n",
    "\n",
    "'''\n",
    "\tcompare between list and tuple\n",
    "    \t ** list is mutable \"you can change value in the list\"\n",
    "    \t ** tuple is unmutable \"you can't change value in the list\"    \n",
    "'''\n",
    "\n",
    "x[0] = 1 # Update value in list\n",
    "# y[0] = 1 ==> error : TypeError: 'tuple' object does not support item assignment\n",
    "\n",
    "print(\"\\nUpdate The List : \", x)\n",
    "\n",
    "'''\n",
    "\t Two Dimensions List and Tuple\n",
    "     \t ** myList = [ [-,-,-,-], [-,-,-,-] ]\n",
    "     \t ** myTuple = ( (-,-,-,-), (-,-,-,-) )\n",
    "'''\n",
    "\n",
    "twoDimList = [[1,3,5,7],\n",
    "              [2,4,6,8]] \n",
    "print(\"\\nTwo Dim List [0] : \", twoDimList[0]) # output ==> [1,3,5,7]\n",
    "print(\"Two Dim List [1] : \", twoDimList[1]) # output ==> [2,4,6,8]\n",
    "print(\"Index 0 in first list : \", twoDimList[0][0]) # output ==> 1\n",
    "print(\"Index 0 in second list : \", twoDimList[1][0]) # output ==> 2\n",
    "\n",
    "twoDimTuple = ((1,2,3,4),\n",
    "               (5,6,7,8),\n",
    "               (9,10,11,12))\n",
    "\n",
    "print(\"\\nTwo Dim Tuple [0] : \", twoDimTuple[0]) # output ==> (1,2,3,4)\n",
    "print(\"Two Dim Tuple [1] : \", twoDimTuple[1]) # output ==> (5,6,7,8)\n",
    "print(\"Two Dim Tuple [2] : \", twoDimTuple[2]) # output ==> (9,10,11,12)\n",
    "print(\"Index 0 in first Tuple : \", twoDimTuple[0][0]) # output ==> 1\n",
    "print(\"Index 0 in second Tuple : \", twoDimTuple[1][1]) # output ==> 6\n",
    "print(\"Index 0 in third Tuple : \", twoDimTuple[2][3]) # output ==> 12"
   ]
  },
  {
   "cell_type": "markdown",
   "id": "2b3d5f90",
   "metadata": {},
   "source": [
    "# Using For Loop With List, Tuple, Dictionary "
   ]
  },
  {
   "cell_type": "code",
   "execution_count": 16,
   "id": "2f500c30",
   "metadata": {},
   "outputs": [
    {
     "name": "stdout",
     "output_type": "stream",
     "text": [
      "Index Num 0 : 1\n",
      "Index Num 1 : fathy\n",
      "Index Num 2 : 3.14\n",
      "Index Num 3 : f\n",
      "Index Num 4 : True\n",
      "\n",
      "Show values from index 0 to index 3 :  [1, 'fathy', 3.14]\n",
      "Show values form first index to index 2 :  [1, 'fathy']\n",
      "Show values from index 2 to last index :  [3.14, 'f', True]\n",
      "Show all values in the list :  [1, 'fathy', 3.14, 'f', True]\n",
      "\n",
      "Show The part Of Name :  [1, 'fathy', 3.14, 'f', True]\n"
     ]
    }
   ],
   "source": [
    "# Create a list containing various data types\n",
    "x = [1, \"fathy\", 3.14, 'f', True]\n",
    "\n",
    "# 1- First way: Iterate over the indices of the list using a range based on its length\n",
    "for i in range(len(x)):\n",
    "    # Print the element at the current index\n",
    "    print(\"Index Num\", i, \":\", x[i])\n",
    "\n",
    "# Alternatively, you can use a simpler form to directly iterate over the elements of the list:\n",
    "# for i in x:\n",
    "#     print(i)\n",
    "\n",
    "# 2- Second way: Slicing to display specific parts of the list\n",
    "print(\"\\nShow values from index 0 to index 3 : \", x[0:3])  # Displays elements from index 0 to index 2\n",
    "print(\"Show values form first index to index 2 : \", x[:2])  # Displays elements from the beginning to index 1\n",
    "print(\"Show values from index 2 to last index : \", x[2:])   # Displays elements from index 2 to the end\n",
    "print(\"Show all values in the list : \", x[:])               # Displays all elements in the list\n",
    "\n",
    "# Note: It seems like you mentioned 'y' in the last print statement, but 'y' is not defined in the provided code.\n",
    "# I assume you meant 'x', so I corrected it in the last line.\n",
    "print(\"\\nShow The part Of Name : \", x[0:6])  # Displays elements from index 0 to index 5"
   ]
  },
  {
   "cell_type": "markdown",
   "id": "fd9ac837",
   "metadata": {},
   "source": [
    "# Built In Functions (BIF)"
   ]
  },
  {
   "cell_type": "code",
   "execution_count": 17,
   "id": "962d4d87",
   "metadata": {},
   "outputs": [
    {
     "name": "stdout",
     "output_type": "stream",
     "text": [
      "ABS :  4\n",
      "Division Modulation :  (4, 1)\n",
      "ID Of Value IN Memory:  140711026607176\n",
      "Max :  7\n",
      "Min :  Ahmed\n",
      "Round Of 7.6 :  8\n",
      "Round Of 7.1 :  7\n"
     ]
    }
   ],
   "source": [
    "# Assign value to variable num\n",
    "num = 10\n",
    "\n",
    "# Absolute value: Returns the absolute value of a number\n",
    "print(\"ABS : \", abs(-4))  # |-4| = 4 (the absolute value)\n",
    "\n",
    "# Division and Modulus: Returns the quotient and the remainder when dividing two numbers\n",
    "print(\"Division Modulation : \", divmod(9, 2))  # 9 / 2 = 4, remainder = 1\n",
    "\n",
    "# ID of value in memory: Returns the identity of an object (unique identifier)\n",
    "print(\"ID Of Value IN Memory: \", id(num))\n",
    "\n",
    "# Max: Returns the highest value among the arguments\n",
    "print(\"Max : \", max(7, 2))  # output ==> 7\n",
    "\n",
    "# Min: Returns the lowest value among the arguments (lexicographically for strings)\n",
    "print(\"Min : \", min(\"Ali\", \"Ahmed\"))  # output ==> Ahmed\n",
    "\n",
    "# Round: Rounds a floating-point number to the nearest integer\n",
    "print(\"Round Of 7.6 : \", round(7.6))  # output ==> 8\n",
    "print(\"Round Of 7.1 : \", round(7.1))  # output ==> 7\n"
   ]
  },
  {
   "cell_type": "code",
   "execution_count": 18,
   "id": "b0954bba",
   "metadata": {},
   "outputs": [
    {
     "name": "stdout",
     "output_type": "stream",
     "text": [
      "list(myList) :  [2, 7, 0, 1, -4, 6, 0.3]\n",
      "list(myList_1) :  [(0, 2), (1, 7), (2, 0), (3, 1), (4, -4), (5, 6), (6, 0.3)]\n",
      "SortedList(myList_2) :  [-4, 0, 0.3, 1, 2, 6, 7]\n",
      "all(myList) :  False\n",
      "any(myList) :  True\n",
      "ReversedList(myList_3) :  [0.3, 6, -4, 1, 0, 7, 2]\n",
      "Length Of List :  7\n",
      "Sum =  12.3\n",
      "Slice from first index to index num. 2 :  [2, 7]\n",
      "Slice from index num. 3 to index num. 5 :  [1, -4]\n",
      "Slice from index num. 0 to index num. 6 but to skip 2 :  [2, 0, -4]\n"
     ]
    }
   ],
   "source": [
    "# Original list\n",
    "myList = [2, 7, 0, 1, -4, 6, 0.3]\n",
    "\n",
    "# 1. Convert the list to another list\n",
    "print(\"list(myList) : \", list(myList))  # output ==> [2, 7, 0, 1, -4, 6, 0.3]\n",
    "\n",
    "# 2. Enumerate the list\n",
    "myList_1 = enumerate(myList)\n",
    "print(\"list(myList_1) : \", list(myList_1))  # output ==> [(0, 2), (1, 7), (2, 0), (3, 1), (4, -4), (5, 6), (6, 0.3)]\n",
    "\n",
    "# 3. Sort the list\n",
    "myList_2 = sorted(myList)\n",
    "print(\"SortedList(myList_2) : \", list(myList_2))  # output ==> [-4, 0, 0.3, 1, 2, 6, 7]\n",
    "\n",
    "# 4. Check if all elements are True\n",
    "print(\"all(myList) : \", all(myList))  # output ==> True\n",
    "\n",
    "# 5. Check if any element is True\n",
    "print(\"any(myList) : \", any(myList))  # output ==> False\n",
    "\n",
    "# 6. Reverse the list\n",
    "myList_3 = reversed(myList)\n",
    "print(\"ReversedList(myList_3) : \", list(myList_3))  # output ==> [0.3, 6, -4, 1, 0, 7, 2]\n",
    "\n",
    "# 7. Get the length of the list\n",
    "print(\"Length Of List : \", len(myList))  # output ==> 7\n",
    "\n",
    "# 8. Get the sum of the list\n",
    "print(\"Sum = \", sum(myList))  # output ==> 12.3\n",
    "\n",
    "# 9. Slice from the first index to index number 2\n",
    "print(\"Slice from first index to index num. 2 : \", myList[slice(2)])  # output ==> [2, 7]\n",
    "\n",
    "# 10. Slice from index number 3 to index number 5\n",
    "print(\"Slice from index num. 3 to index num. 5 : \", myList[slice(3, 5)])  # output ==> [1, -4]\n",
    "\n",
    "# 11. Slice from index number 0 to index number 6 but skip 2\n",
    "print(\"Slice from index num. 0 to index num. 6 but to skip 2 : \", myList[slice(0, 6, 2)])  # output ==> [2, 0, -4]\n"
   ]
  },
  {
   "cell_type": "markdown",
   "id": "826c13dd",
   "metadata": {},
   "source": [
    "# Built In Functions (BIF) In List, Tuple"
   ]
  },
  {
   "cell_type": "code",
   "execution_count": 1,
   "id": "a6fdfd13",
   "metadata": {},
   "outputs": [
    {
     "name": "stdout",
     "output_type": "stream",
     "text": [
      "list(x) :  [2, 8, 2, 9, 6, 2]\n",
      "list(y) :  [2, 8, 2, 9, 6, 2]\n",
      "x.count(2) :  3\n",
      "Append number in list :  [2, 8, 2, 9, 6, 2, 3]\n",
      "Append number in list :  [2, 8, 3, 2, 9, 6, 2, 3]\n",
      "Remove number in list :  [8, 3, 2, 9, 6, 2, 3]\n",
      "Remove number in list :  [8, 3, 9, 6, 2, 3]\n",
      "x.index(3) :  1\n",
      "list(x) = list(x) + list(y) :  [8, 3, 9, 6, 2, 3, 2, 8, 2, 9, 6, 2]\n",
      "list(x) :  []\n",
      "\n",
      "z.count(2) :  3\n",
      "z.index(9) :  3\n",
      "tuple(z) :  (2, 8, 2, 9, 6, 2)\n",
      "Min of Tuple : 2\n",
      "Max of Tuple : 9\n",
      "Sum of Tuple : 29\n",
      "Sorted of Tuple : [2, 2, 2, 6, 8, 9]\n"
     ]
    }
   ],
   "source": [
    "### List operations  ###\n",
    "x = [2, 8, 2, 9, 6, 2]\n",
    "y = x.copy()\n",
    "\n",
    "# 1. Print the lists\n",
    "print(\"list(x) : \", list(x))  # output ==> [2, 8, 2, 9, 6, 2]\n",
    "print(\"list(y) : \", list(y))  # output ==> [2, 8, 2, 9, 6, 2]\n",
    "\n",
    "# 2. Count occurrences of a number in the list\n",
    "print(\"x.count(2) : \", x.count(2))  # output ==> 3\n",
    "\n",
    "# 3. Append a number to the list\n",
    "x.append(3)\n",
    "print(\"Append number in list : \", list(x))  # output ==> [2, 8, 2, 9, 6, 2, 3]\n",
    "\n",
    "# 4. Insert a value at a specific index\n",
    "x.insert(2, 3)  # In index 2, put value 3\n",
    "print(\"Append number in list : \", list(x))  # output ==> [2, 8, 3, 2, 9, 6, 2, 3]\n",
    "\n",
    "# 5. Remove the first occurrence of a value from the list\n",
    "x.remove(2)\n",
    "print(\"Remove number in list : \", list(x))  # output ==> [8, 3, 2, 9, 6, 2, 3]\n",
    "\n",
    "# 6. Remove a value at a specific index\n",
    "x.pop(2)\n",
    "print(\"Remove number in list : \", list(x))  # output ==> [8, 3, 9, 6, 2, 3]\n",
    "\n",
    "# 7. Find the index of the first occurrence of a value\n",
    "print(\"x.index(3) : \", x.index(3))  # output ==> 1\n",
    "\n",
    "# 8. Extend the list by appending elements from another iterable (list in this case)\n",
    "x.extend(y)\n",
    "print(\"list(x) = list(x) + list(y) : \", list(x))  # output ==> [8, 3, 9, 6, 2, 3, 2, 8, 2, 9, 6, 2]\n",
    "\n",
    "# 9. Clear all elements from the list\n",
    "x.clear()\n",
    "print(\"list(x) : \", list(x))  # output ==> []\n",
    "\n",
    "### Tuple operations  ###\n",
    "z = (2, 8, 2, 9, 6, 2)  # Initialize a tuple with integers\n",
    "\n",
    "# 1. Count occurrences of a number in the tuple\n",
    "print(\"\\nz.count(2) : \", z.count(2))  # Count how many times the number 2 appears in the tuple; output ==> 3\n",
    "\n",
    "# 2. Find the index of the first occurrence of a value in the tuple\n",
    "print(\"z.index(9) : \", z.index(9))  # Find the index of the first occurrence of the number 9; output ==> 3\n",
    "\n",
    "# 3. Convert the tuple to a list (though the comment is incorrect here, it's actually converting to tuple again)\n",
    "print(\"tuple(z) : \", tuple(z))  # This is redundant, it prints the tuple itself; output ==> (2, 8, 2, 9, 6, 2)\n",
    "\n",
    "# 4. Find the minimum value in the tuple\n",
    "print(f\"Min of Tuple : {min(z)}\")  # Find the minimum value in the tuple; output ==> 2\n",
    "\n",
    "# 5. Find the maximum value in the tuple\n",
    "print(f\"Max of Tuple : {max(z)}\")  # Find the maximum value in the tuple; output ==> 9\n",
    "\n",
    "# 6. Calculate the sum of all elements in the tuple\n",
    "print(f\"Sum of Tuple : {sum(z)}\")  # Calculate the sum of all elements in the tuple; output ==> 29\n",
    "\n",
    "# 7. Sort the tuple and print it as a list (though the print statement is incorrect here, should be tuple(sorted(z)))\n",
    "print(f\"Sorted of Tuple : {sorted(z)}\")  # Sort the tuple and convert it to a list for printing; output ==> [2, 2, 2, 6, 8, 9]"
   ]
  },
  {
   "cell_type": "markdown",
   "id": "b2a14c68",
   "metadata": {},
   "source": [
    "# Built In Functions (BIF) In Dictionary "
   ]
  },
  {
   "cell_type": "code",
   "execution_count": 2,
   "id": "f2a0a188",
   "metadata": {},
   "outputs": [
    {
     "name": "stdout",
     "output_type": "stream",
     "text": [
      "Items :  dict_items([(1, 'a'), (7, 'b'), (3, 'c'), (6, 'd')])\n",
      "Values :  dict_values(['a', 'b', 'c', 'd'])\n",
      "Keys :  dict_keys([1, 7, 3, 6])\n",
      "x.get(7) :  b\n",
      "Delete item in Dictionary using 'popitem' :  {1: 'a', 7: 'b', 3: 'c'}\n",
      "Delete item in Dictionary using 'pop' :  {1: 'a', 3: 'c'}\n",
      "Update item in Dictionary :  {1: 'f', 3: 'c'}\n",
      "Delete all item in Dictionary :  {}\n",
      "New Dictionary :  {'a': 0, 'b': 0, 'c': 0}\n"
     ]
    }
   ],
   "source": [
    "# Dictionary operations\n",
    "x = {\n",
    "    1: 'a',\n",
    "    7: 'b',\n",
    "    3: 'c',\n",
    "    6: 'd'\n",
    "}\n",
    "y = x.copy()\n",
    "\n",
    "# 1. Print the items in the dictionary\n",
    "print(\"Items : \", x.items())  # output ==> [(1, 'a'), (7, 'b'), (3, 'c'), (6, 'd')]\n",
    "\n",
    "# 2. Print the values in the dictionary\n",
    "print(\"Values : \", x.values())  # output ==> ['a', 'b', 'c', 'd']\n",
    "\n",
    "# 3. Print the keys in the dictionary\n",
    "print(\"Keys : \", x.keys())  # output ==> [1, 7, 3, 6]\n",
    "\n",
    "# 4. Get the value associated with a specific key using get()\n",
    "print(\"x.get(7) : \", x.get(7))  # output ==> b , get(key) ==> value\n",
    "\n",
    "# 5. Delete the last item in the dictionary using popitem()\n",
    "x.popitem()\n",
    "print(\"Delete item in Dictionary using 'popitem' : \", dict(x))  # output ==> {1: 'a', 7: 'b', 3: 'c'}\n",
    "\n",
    "# 6. Delete an item with a specific key using pop()\n",
    "x.pop(7)\n",
    "print(\"Delete item in Dictionary using 'pop' : \", dict(x))  # output ==> {1: 'a', 3: 'c'}\n",
    "\n",
    "# 7. Update an item with a specific key or add a new item if the key doesn't exist using update()\n",
    "x.update({1: 'f'})\n",
    "print(\"Update item in Dictionary : \", dict(x))  # output ==> {1: 'f', 3: 'c'}\n",
    "\n",
    "# 8. Clear all items in the dictionary\n",
    "x.clear()\n",
    "print(\"Delete all item in Dictionary : \", dict(x))  # output ==> {}\n",
    "\n",
    "# 9. Create a new dictionary from keys and a default value\n",
    "a = ['a', 'b', 'c']\n",
    "z = dict.fromkeys(a, 0)  # fromkeys(keys, value)\n",
    "print(\"New Dictionary : \", dict(z))  # output ==> {'a': 0, 'b': 0, 'c': 0}"
   ]
  },
  {
   "cell_type": "markdown",
   "id": "36f30c0d",
   "metadata": {},
   "source": [
    "# Built In Functions (BIF) In String"
   ]
  },
  {
   "cell_type": "code",
   "execution_count": 1,
   "id": "af2ed30c",
   "metadata": {},
   "outputs": [
    {
     "name": "stdout",
     "output_type": "stream",
     "text": [
      "Capitalize :  Hello\n",
      "Title :  Hello\n",
      "SwapCase :  HELLO\n",
      "UpperCase :  HELLO\n",
      "LowerCase :  hello\n",
      "Casefold :  hello\n",
      "x.count('l') :  2\n",
      "x.endswith('o') :  True\n",
      "x.endswith('.') :  False\n",
      "x.find('e') :  1\n",
      "x.index('o') :  4\n",
      "x.isalpha() :  True\n",
      "x.isdigit() :  False\n",
      "x.isidentifier() :  True\n",
      "x.islower() :  True\n",
      "x.isupper() :  False\n",
      "x.isprintable() :  True\n",
      "y.isnumeric() :  True\n",
      "x.isnumeric() :  False\n",
      "x.replace('he', 'ol') :  olllo\n",
      "x.startswith('h') :  True\n",
      "x.split('e') :  ['h', 'llo']\n"
     ]
    }
   ],
   "source": [
    "# String operations\n",
    "x = \"hello\"\n",
    "\n",
    "# 1. Capitalize the first character of the string\n",
    "print(\"Capitalize : \", x.capitalize())  # output ==> Hello\n",
    "\n",
    "# 2. Convert the first character of each word to uppercase\n",
    "print(\"Title : \", x.title())  # output ==> Hello\n",
    "\n",
    "# 3. Swap the case of each character in the string\n",
    "print(\"SwapCase : \", x.swapcase())  # output ==> HELLO (convert uppercase to lowercase and vice versa)\n",
    "\n",
    "# 4. Convert all characters to uppercase\n",
    "print(\"UpperCase : \", x.upper())  # output ==> HELLO\n",
    "\n",
    "# 5. Convert all characters to lowercase\n",
    "print(\"LowerCase : \", x.lower())  # output ==> hello\n",
    "\n",
    "# 6. Casefold: Similar to lowercasing but more aggressive for Unicode characters\n",
    "print(\"Casefold : \", x.casefold())  # output ==> hello\n",
    "\n",
    "# 7. Count the occurrences of a specified value\n",
    "print(\"x.count('l') : \", x.count('l'))  # output ==> 2\n",
    "\n",
    "# 8. Check if the string ends with a specified value\n",
    "print(\"x.endswith('o') : \", x.endswith(\"o\"))  # output ==> True\n",
    "print(\"x.endswith('.') : \", x.endswith(\".\"))  # output ==> False\n",
    "\n",
    "# 9. Find the first occurrence of a specified value\n",
    "print(\"x.find('e') : \", x.find(\"e\"))  # output ==> 1\n",
    "\n",
    "# 10. Find the first occurrence of a specified value; raises an exception if not found\n",
    "print(\"x.index('o') : \", x.index(\"o\"))  # output ==> 4\n",
    "\n",
    "# 11. Check if all characters in the text are alphabetic\n",
    "print(\"x.isalpha() : \", x.isalpha())  # output ==> True\n",
    "\n",
    "# 12. Check if all characters in the text are digits\n",
    "print(\"x.isdigit() : \", x.isdigit())  # output ==> False\n",
    "\n",
    "# 13. Check if the string is a valid identifier (e.g., variable name)\n",
    "print(\"x.isidentifier() : \", x.isidentifier())  # output ==> True\n",
    "\n",
    "# 14. Check if all characters in the text are lowercase\n",
    "print(\"x.islower() : \", x.islower())  # output ==> True\n",
    "\n",
    "# 15. Check if all characters in the text are uppercase\n",
    "print(\"x.isupper() : \", x.isupper())  # output ==> False\n",
    "\n",
    "# 16. Check if all characters in the text are printable\n",
    "print(\"x.isprintable() : \", x.isprintable())  # output ==> True\n",
    "\n",
    "# Additional numeric operations\n",
    "y = \"326325\"\n",
    "\n",
    "# 17. Check if all characters in the text are numeric\n",
    "print(\"y.isnumeric() : \", y.isnumeric())  # output ==> True\n",
    "print(\"x.isnumeric() : \", x.isnumeric())  # output ==> False\n",
    "\n",
    "# 18. Replace a specified value with another value\n",
    "print(\"x.replace('he', 'ol') : \", x.replace(\"he\", \"ol\"))  # output ==> ololo\n",
    "\n",
    "# 19. Check if the string starts with a specified value\n",
    "print(\"x.startswith('h') : \", x.startswith(\"h\"))  # output ==> True\n",
    "\n",
    "# 20. Split the string into a list based on a specified delimiter\n",
    "print(\"x.split('e') : \", x.split(\"e\"))  # output ==> ['h', 'llo']"
   ]
  },
  {
   "cell_type": "markdown",
   "id": "0a10feab",
   "metadata": {},
   "source": [
    "# Built In Functions (BIF) In Set"
   ]
  },
  {
   "cell_type": "code",
   "execution_count": 21,
   "id": "c35b7e75",
   "metadata": {},
   "outputs": [
    {
     "name": "stdout",
     "output_type": "stream",
     "text": [
      "set(x) :  {2, 4, 5, 7.1, -3}\n",
      "set(y) :  {2, 4, 5, 7.1, -3}\n",
      "set(z) :  {-3, 4, 5, 'a'}\n",
      "x.difference(z) :  {2, 7.1}\n",
      "x.intersection(z) :  {5, 4, -3}\n",
      "set(x) :  {-3, 4, 5, 7.1}\n",
      "set(x) :  {4, -3, 7.1}\n",
      "set(x) :  {4, 5, 'a', 7.1, -3}\n",
      "set(x) :  {2, 4, 5, 7.1, -3}\n",
      "set(x) :  set()\n"
     ]
    }
   ],
   "source": [
    "# Set operations\n",
    "z = {4, 'a', 5, -3}\n",
    "x = {2, 5, -3, 7.1}\n",
    "\n",
    "# 1. Add an element to the set\n",
    "x.add(4)\n",
    "\n",
    "# 2. Create a shallow copy of the set\n",
    "y = x.copy()\n",
    "\n",
    "# 3. Convert a set to another set\n",
    "print(\"set(x) : \", set(x))  # output ==> {2, 4, 5, 7.1, -3}\n",
    "print(\"set(y) : \", set(y))  # output ==> {2, 4, 5, 7.1, -3}\n",
    "print(\"set(z) : \", set(z))  # output ==> {-3, 4, 5, 'a'}\n",
    "\n",
    "# 4. Return the difference of two sets\n",
    "print(\"x.difference(z) : \", x.difference(z))  # output ==> {2, 7.1}\n",
    "\n",
    "# 5. Return the intersection of two sets\n",
    "print(\"x.intersection(z) : \", x.intersection(z))  # output ==> {5, 4, -3}\n",
    "\n",
    "# 6. Remove an element from the set using discard\n",
    "x.discard(2)  # x.discard(value)\n",
    "print(\"set(x) : \", set(x))  # output ==> {4, 5, 7.1, -3}\n",
    "\n",
    "# 7. Remove an element from the set using remove\n",
    "x.remove(5)\n",
    "print(\"set(x) : \", set(x))  # output ==> {4, 7.1, -3}\n",
    "\n",
    "# 8. Return the union of sets\n",
    "print(\"set(x) : \", x.union(z))  # output ==> {4, 5, 7.1, -3, 'a'}\n",
    "\n",
    "# 9. Update a set with the union of itself and another set\n",
    "x.update(y)\n",
    "print(\"set(x) : \", set(x))  # output ==> {2, 4, 5, 7.1, -3}\n",
    "\n",
    "# 10. Remove all elements from the set\n",
    "x.clear()\n",
    "print(\"set(x) : \", set(x))  # output ==> {}"
   ]
  },
  {
   "cell_type": "markdown",
   "id": "4c6a68db",
   "metadata": {},
   "source": [
    "# File"
   ]
  },
  {
   "cell_type": "code",
   "execution_count": 26,
   "id": "d9cb8fbe",
   "metadata": {},
   "outputs": [
    {
     "name": "stdout",
     "output_type": "stream",
     "text": [
      "Hello World!\n",
      "\n",
      "Fathy\tHesham\tFathy\n"
     ]
    }
   ],
   "source": [
    "'''\n",
    "\t\t => create file in python, you must used to function called open()\n",
    "\t\t => open(name_file, kind_file)\n",
    "\t\t => kind of file ==> r: read, w: write, a: append\n",
    "\t\t => final close the file using function called close()\n",
    "'''\n",
    "\n",
    "# Open a file named 'write.txt' in write mode ('w'). This will create the file if it does not exist,\n",
    "# or truncate the file to zero length if it already exists.\n",
    "write = open(\"write.txt\", \"w\")\n",
    "\n",
    "# Write the string \"Hello World!\" to the file.\n",
    "write.write(\"Hello World!\")\n",
    "\n",
    "# Close the file to ensure that the write operation is completed and resources are released.\n",
    "write.close()\n",
    "\n",
    "# Open the file 'write.txt' in append mode ('a'). This will allow adding content to the end of the file\n",
    "# without modifying the existing content.\n",
    "append = open(\"write.txt\", \"a\")\n",
    "\n",
    "# Write a newline character followed by the string \"Fathy\" and a tab character to the file.\n",
    "append.write(\"\\nFathy\\t\")\n",
    "\n",
    "# Write the string \"Hesham\" followed by a tab character to the file.\n",
    "append.write(\"Hesham\\t\")\n",
    "\n",
    "# Write the string \"Fathy\" to the file.\n",
    "append.write(\"Fathy\")\n",
    "\n",
    "# Close the file to ensure that the append operation is completed and resources are released.\n",
    "append.close()\n",
    "\n",
    "# Open the file 'write.txt' in read mode ('r'). This allows reading the content of the file.\n",
    "read = open(\"write.txt\", \"r\")\n",
    "\n",
    "# Iterate over each line in the file.\n",
    "for i in read:\n",
    "    # Print the current line. The 'print' function adds a newline character by default,\n",
    "    # so each line from the file will be printed on a new line.\n",
    "    print(i)\n",
    "\n",
    "# Close the file to release resources associated with the file.\n",
    "read.close()"
   ]
  },
  {
   "cell_type": "code",
   "execution_count": 3,
   "id": "0a4595f4",
   "metadata": {},
   "outputs": [],
   "source": [
    "# Prompt the user to enter any text and store the input in the variable 'text'.\n",
    "text = input(\"Please, Enter any text to print in file\")\n",
    "\n",
    "# Open a file named 'text.txt' in write mode ('w'). This will create the file if it does not exist,\n",
    "# or truncate the file to zero length if it already exists.\n",
    "write_ = open(\"text.txt\", \"w\")\n",
    "\n",
    "# Write the user-provided text to the file.\n",
    "write_.write(text)\n",
    "\n",
    "# Close the file to ensure that the write operation is completed and resources are released.\n",
    "write_.close()"
   ]
  },
  {
   "cell_type": "code",
   "execution_count": 4,
   "id": "a4547819",
   "metadata": {},
   "outputs": [
    {
     "name": "stdout",
     "output_type": "stream",
     "text": [
      "Hello World!\n"
     ]
    }
   ],
   "source": [
    "# Open the file 'text.txt' in read mode ('r'). This allows reading the content of the file.\n",
    "read_ = open(\"text.txt\", \"r\")\n",
    "\n",
    "# Iterate over each line in the file.\n",
    "for txt in read_:\n",
    "    # Print the current line. The 'print' function adds a newline character by default,\n",
    "    # so each line from the file will be printed on a new line.\n",
    "    print(txt)\n",
    "\n",
    "# Close the file to release resources associated with the file.\n",
    "read_.close()"
   ]
  }
 ],
 "metadata": {
  "kernelspec": {
   "display_name": "Python 3 (ipykernel)",
   "language": "python",
   "name": "python3"
  },
  "language_info": {
   "codemirror_mode": {
    "name": "ipython",
    "version": 3
   },
   "file_extension": ".py",
   "mimetype": "text/x-python",
   "name": "python",
   "nbconvert_exporter": "python",
   "pygments_lexer": "ipython3",
   "version": "3.11.7"
  }
 },
 "nbformat": 4,
 "nbformat_minor": 5
}
